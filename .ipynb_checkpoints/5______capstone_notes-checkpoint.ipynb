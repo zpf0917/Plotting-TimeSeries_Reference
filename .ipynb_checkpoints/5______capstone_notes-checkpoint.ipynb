{
 "cells": [
  {
   "cell_type": "markdown",
   "metadata": {},
   "source": [
    "# Scatter Matrix Plot\n",
    "* ### 【 pd.concat 】to create new df"
   ]
  },
  {
   "cell_type": "code",
   "execution_count": 2,
   "metadata": {},
   "outputs": [],
   "source": [
    "from pandas.plotting import scatter_matrix\n",
    "\n",
    "car_comp = pd.concat([tesla['Open'],gm['Open'],ford['Open']],axis=1)\n",
    "car_comp.columns = ['Tesla Open','GM Open','Ford Open']\n",
    "\n",
    "scatter_matrix(car_comp,figsize=(8,8),alpha=0.2,hist_kwds={'bins':50});"
   ]
  },
  {
   "cell_type": "markdown",
   "metadata": {},
   "source": [
    "# Use of Shifting: Percentage change"
   ]
  },
  {
   "cell_type": "code",
   "execution_count": 4,
   "metadata": {},
   "outputs": [],
   "source": [
    "tesla['returns'] = (tesla['Close'] / tesla['Close'].shift(1) ) - 1"
   ]
  },
  {
   "cell_type": "code",
   "execution_count": 5,
   "metadata": {},
   "outputs": [],
   "source": [
    "# OR\n",
    "tesla['returns'] = tesla['Close'].pct_change(1)"
   ]
  },
  {
   "cell_type": "markdown",
   "metadata": {},
   "source": [
    "# Box Plot: side-by-side comparison\n",
    "* ### 【 pd.concat 】to create new df"
   ]
  },
  {
   "cell_type": "code",
   "execution_count": 6,
   "metadata": {},
   "outputs": [],
   "source": [
    "box_df = pd.concat([tesla['returns'],gm['returns'],ford['returns']],axis=1)\n",
    "box_df.columns = ['Tesla Returns',' GM Returns','Ford Returns']\n",
    "box_df.plot(kind='box',figsize=(8,11),colormap='jet')"
   ]
  },
  {
   "cell_type": "markdown",
   "metadata": {},
   "source": [
    "# Cumulative Function"
   ]
  },
  {
   "cell_type": "code",
   "execution_count": 7,
   "metadata": {},
   "outputs": [],
   "source": [
    "tesla['Cumulative Return'] = (1 + tesla['returns']).cumprod()"
   ]
  },
  {
   "cell_type": "code",
   "execution_count": null,
   "metadata": {},
   "outputs": [],
   "source": []
  }
 ],
 "metadata": {
  "kernelspec": {
   "display_name": "Python 3",
   "language": "python",
   "name": "python3"
  },
  "language_info": {
   "codemirror_mode": {
    "name": "ipython",
    "version": 3
   },
   "file_extension": ".py",
   "mimetype": "text/x-python",
   "name": "python",
   "nbconvert_exporter": "python",
   "pygments_lexer": "ipython3",
   "version": "3.7.4"
  }
 },
 "nbformat": 4,
 "nbformat_minor": 4
}
