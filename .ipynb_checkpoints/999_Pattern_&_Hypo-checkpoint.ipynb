{
 "cells": [
  {
   "cell_type": "markdown",
   "metadata": {},
   "source": [
    "# PATTERN & HYPO tools\n"
   ]
  },
  {
   "cell_type": "code",
   "execution_count": 186,
   "metadata": {},
   "outputs": [],
   "source": [
    "import numpy as np\n",
    "import pandas as pd\n",
    "from numpy.random import randn\n",
    "np.random.seed(101)\n",
    "DATA_DIR = '/Users/nathanzhao/Desktop/Python_quant_finance' + \\\n",
    "        '/Python-for-Finance-Repo-master-master' + \\\n",
    "        '/08-Time-Series-Analysis' \n",
    "import matplotlib.pyplot as plt\n",
    "import seaborn as sns\n",
    "\n",
    "import statsmodels.api as sm\n",
    "from statsmodels.tsa.seasonal import seasonal_decompose\n",
    "\n",
    "%matplotlib inline"
   ]
  },
  {
   "cell_type": "code",
   "execution_count": 187,
   "metadata": {},
   "outputs": [],
   "source": [
    "df = sm.datasets.macrodata.load_pandas().data\n",
    "index = pd.Index(sm.tsa.datetools.dates_from_range  ('1959Q1','2009Q3'))\n",
    "df.index = index"
   ]
  },
  {
   "cell_type": "markdown",
   "metadata": {},
   "source": [
    "# Pattern:\n",
    "* ### Binplots VA1, w/ DF partitioned by VA2\n",
    "* ### TODO: Binplot by list of pairs of left&right (ONLY FOR int, float, datetime)\n",
    "* ### TODO: Binplot by categorical variable (all OR selected subset among all)\n",
    "\n",
    "# Hypo:\n",
    "* ### TODO: two group mean test, MIX with Binplot 1\n",
    "* ### TODO: linear regression test, related to Binplot 1"
   ]
  },
  {
   "cell_type": "markdown",
   "metadata": {},
   "source": [
    "================================================\n",
    "================================================"
   ]
  },
  {
   "cell_type": "markdown",
   "metadata": {},
   "source": [
    "# Binplots VA1, w/ DF partitioned by VA2"
   ]
  },
  {
   "cell_type": "code",
   "execution_count": 188,
   "metadata": {},
   "outputs": [],
   "source": [
    "def BINPLOT_VA1_parted_eq_by_VA2(\n",
    "        df, \n",
    "        num_q, \n",
    "        va1, \n",
    "        va2, \n",
    "        va2_is_index = False, \n",
    "\n",
    "        apply_float_precision = True,\n",
    "        precision_x_axis = 2,\n",
    "        fig_size = (16,4),\n",
    "        show_x_ticks = True\n",
    "    ): \n",
    "    \"\"\"\n",
    "    Params:\n",
    "        【va2_is_index】 True:\n",
    "                Then 【va2】 is just a name of x axis\n",
    "        【apply_float_precision】 True: \n",
    "                Only when 【va2】 is float/int\n",
    "    Note:\n",
    "        Require no repeating index, for time series index, \n",
    "            consider push repeating index by 1ns, repeat \n",
    "            until no repetition left.\n",
    "    \"\"\"\n",
    "    # TODO:  Implement smart remove of repeat index\n",
    "    if va2_is_index:\n",
    "        unstacked = df[va1].groupby(pd.qcut(df.index, q = num_q)).apply(pd.DataFrame)\n",
    "    else:\n",
    "        unstacked = df[va1].groupby(pd.qcut(df[va2], q = num_q)).apply(pd.DataFrame)\n",
    "        \n",
    "    ax = pd.DataFrame(unstacked.values).plot(kind='box',figsize = fig_size)\n",
    "    \n",
    "    if apply_float_precision:\n",
    "        precision_str = \"{:.\" + str(precision_x_axis) + \"f}\"\n",
    "        columns_interval_left = list(map(lambda x : precision_str.format(x.left), list(unstacked.columns)))\n",
    "    else :\n",
    "        columns_interval_left = list(map(lambda x : x.left, list(unstacked.columns)))\n",
    "    if show_x_ticks:\n",
    "        _ = ax.set_xticklabels(columns_interval_left)\n",
    "    _ = ax.set_xlabel(\"LEFT of {\" + va2 + \"}\")\n",
    "    _ = ax.set_ylabel(va1)"
   ]
  },
  {
   "cell_type": "code",
   "execution_count": 190,
   "metadata": {
    "jupyter": {
     "source_hidden": true
    }
   },
   "outputs": [
    {
     "data": {
      "image/png": "[encoded data removed]",
      "text/plain": [
       "<Figure size 288x144 with 1 Axes>"
      ]
     },
     "metadata": {
      "needs_background": "light"
     },
     "output_type": "display_data"
    }
   ],
   "source": [
    "BINPLOT_VA1_parted_eq_by_VA2(\n",
    "    df= df, \n",
    "    va1=  'realgdp', \n",
    "    va2 = 'time', \n",
    "    num_q =4, \n",
    "    va2_is_index = True, \n",
    "    apply_float_precision = False,\n",
    "    fig_size = (4,2), \n",
    "    show_x_ticks = False\n",
    ")"
   ]
  },
  {
   "cell_type": "code",
   "execution_count": null,
   "metadata": {},
   "outputs": [],
   "source": []
  },
  {
   "cell_type": "code",
   "execution_count": null,
   "metadata": {},
   "outputs": [],
   "source": []
  },
  {
   "cell_type": "code",
   "execution_count": null,
   "metadata": {},
   "outputs": [],
   "source": []
  },
  {
   "cell_type": "code",
   "execution_count": null,
   "metadata": {},
   "outputs": [],
   "source": []
  },
  {
   "cell_type": "code",
   "execution_count": null,
   "metadata": {},
   "outputs": [],
   "source": []
  },
  {
   "cell_type": "code",
   "execution_count": null,
   "metadata": {},
   "outputs": [],
   "source": []
  },
  {
   "cell_type": "code",
   "execution_count": null,
   "metadata": {},
   "outputs": [],
   "source": []
  },
  {
   "cell_type": "code",
   "execution_count": null,
   "metadata": {},
   "outputs": [],
   "source": []
  },
  {
   "cell_type": "code",
   "execution_count": null,
   "metadata": {},
   "outputs": [],
   "source": []
  },
  {
   "cell_type": "code",
   "execution_count": null,
   "metadata": {},
   "outputs": [],
   "source": []
  },
  {
   "cell_type": "code",
   "execution_count": null,
   "metadata": {},
   "outputs": [],
   "source": []
  },
  {
   "cell_type": "code",
   "execution_count": null,
   "metadata": {},
   "outputs": [],
   "source": []
  },
  {
   "cell_type": "code",
   "execution_count": null,
   "metadata": {},
   "outputs": [],
   "source": []
  },
  {
   "cell_type": "code",
   "execution_count": null,
   "metadata": {},
   "outputs": [],
   "source": []
  },
  {
   "cell_type": "code",
   "execution_count": null,
   "metadata": {},
   "outputs": [],
   "source": []
  },
  {
   "cell_type": "code",
   "execution_count": null,
   "metadata": {},
   "outputs": [],
   "source": []
  },
  {
   "cell_type": "code",
   "execution_count": null,
   "metadata": {},
   "outputs": [],
   "source": []
  }
 ],
 "metadata": {
  "kernelspec": {
   "display_name": "Python 3",
   "language": "python",
   "name": "python3"
  },
  "language_info": {
   "codemirror_mode": {
    "name": "ipython",
    "version": 3
   },
   "file_extension": ".py",
   "mimetype": "text/x-python",
   "name": "python",
   "nbconvert_exporter": "python",
   "pygments_lexer": "ipython3",
   "version": "3.7.4"
  }
 },
 "nbformat": 4,
 "nbformat_minor": 4
}
