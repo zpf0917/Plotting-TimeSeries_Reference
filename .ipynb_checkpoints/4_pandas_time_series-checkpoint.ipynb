{
 "cells": [
  {
   "cell_type": "code",
   "execution_count": 5,
   "metadata": {},
   "outputs": [],
   "source": [
    "import numpy as np\n",
    "import pandas as pd\n",
    "from numpy.random import randn\n",
    "np.random.seed(101)\n",
    "DATA_DIR = '/Users/nathanzhao/Desktop/Python_quant_finance' + \\\n",
    "        '/Python-for-Finance-Repo-master-master' + \\\n",
    "        '/05-Pandas-with-Time-Series' +\\\n",
    "        '/time_data'\n",
    "import matplotlib.pyplot as plt\n",
    "import seaborn as sns"
   ]
  },
  {
   "cell_type": "code",
   "execution_count": 4,
   "metadata": {},
   "outputs": [],
   "source": [
    "%matplotlib inline"
   ]
  },
  {
   "cell_type": "markdown",
   "metadata": {},
   "source": [
    "# Catalog:\n",
    "* ### Datetime index\n",
    "* ### Time Resampling (aggregate)"
   ]
  },
  {
   "cell_type": "markdown",
   "metadata": {},
   "source": [
    "================================================\n",
    "================================================"
   ]
  },
  {
   "cell_type": "markdown",
   "metadata": {},
   "source": [
    "# Date-time index\n",
    "* Python built-in\n",
    "* Pandas Datetime Index: built on python built-in"
   ]
  },
  {
   "cell_type": "markdown",
   "metadata": {},
   "source": [
    "### Python built-in"
   ]
  },
  {
   "cell_type": "code",
   "execution_count": 11,
   "metadata": {},
   "outputs": [
    {
     "data": {
      "text/plain": [
       "datetime.datetime"
      ]
     },
     "execution_count": 11,
     "metadata": {},
     "output_type": "execute_result"
    }
   ],
   "source": [
    "from datetime import datetime\n",
    "\n",
    "# Create date time\n",
    "my_date = datetime(year = 2017, month = 1, day = 2)\n",
    "my_date_time = datetime(year = 2017, month = 1, day = 2, hour = 13, minute = 30, second = 15)\n",
    "type(my_date_time)\n",
    "\n",
    "# Can invoke attributes of datetime object\n",
    "my_date_time.day"
   ]
  },
  {
   "cell_type": "markdown",
   "metadata": {},
   "source": [
    "### Pandas Datetime Index\n",
    "* 【 pd.DatetimeIndex([..]) 】"
   ]
  },
  {
   "cell_type": "code",
   "execution_count": 32,
   "metadata": {},
   "outputs": [],
   "source": [
    "# Create Index object\n",
    "first_two  = [datetime(2016,1,1), datetime(2016,1,2)]\n",
    "dt_ind = pd.DatetimeIndex(first_two)"
   ]
  },
  {
   "cell_type": "code",
   "execution_count": 31,
   "metadata": {},
   "outputs": [
    {
     "data": {
      "text/plain": [
       "Timestamp('2016-01-02 00:00:00')"
      ]
     },
     "execution_count": 31,
     "metadata": {},
     "output_type": "execute_result"
    }
   ],
   "source": [
    "data = np.random.randn(2,2)\n",
    "df = pd.DataFrame(data = data, index = dt_ind, columns = ['a', 'b'])\n",
    "\n",
    "df.index.argmax()\n",
    "df.index.max()"
   ]
  },
  {
   "cell_type": "markdown",
   "metadata": {},
   "source": [
    "-------------\n",
    "-------------"
   ]
  },
  {
   "cell_type": "markdown",
   "metadata": {},
   "source": [
    "# Time Resampling (aggregate)\n",
    "* Read df (time as just a column for now), Convert time column to Datetime object"
   ]
  },
  {
   "cell_type": "markdown",
   "metadata": {},
   "source": [
    "### Read df (time as just a column for now), Convert time column to Datetime object\n",
    "* 【 pd.to_datetime(..) 】: arg, format\n",
    "* 【 df.info() 】"
   ]
  },
  {
   "cell_type": "code",
   "execution_count": 64,
   "metadata": {},
   "outputs": [],
   "source": [
    "df = pd.read_csv(DATA_DIR + '/walmart_stock.csv')\n",
    "# df.info() \n",
    "# ===> Note: 'Date' column is 'non-null object', not a time series object yet.\n",
    "\n",
    "df['Date'] = pd.to_datetime(df['Date'], format = '%Y-%m-%d')\n",
    "# df.info()\n",
    "# ===> 'Date' column is of datetime64[ns] now.\n",
    "# OR\n",
    "df['Date'] = df['Date'].apply(    lambda x : pd.to_datetime(x, format = '%Y-%m-%d')    )\n",
    "\n",
    "# Now can set this column to index\n",
    "df.set_index('Date', inplace = True)"
   ]
  },
  {
   "cell_type": "markdown",
   "metadata": {},
   "source": [
    "### Resampler: 'groupby' object specific to time series\n",
    "* Look up: \"All possible time series offset strings\""
   ]
  },
  {
   "cell_type": "code",
   "execution_count": 72,
   "metadata": {},
   "outputs": [
    {
     "name": "stdout",
     "output_type": "stream",
     "text": [
      "DatetimeIndexResampler [freq=<YearEnd: month=12>, axis=0, closed=right, label=right, convention=start, base=0]\n"
     ]
    },
    {
     "data": {
      "text/plain": [
       "(5, 6)"
      ]
     },
     "execution_count": 72,
     "metadata": {},
     "output_type": "execute_result"
    }
   ],
   "source": [
    "print(\\\n",
    "df.resample(rule = 'A'))\n",
    "df.resample(rule = 'A').mean()      .shape"
   ]
  },
  {
   "cell_type": "markdown",
   "metadata": {},
   "source": [
    "* Define my own rule for resampling"
   ]
  },
  {
   "cell_type": "code",
   "execution_count": 92,
   "metadata": {},
   "outputs": [
    {
     "name": "stdout",
     "output_type": "stream",
     "text": [
      "(10, 6)\n"
     ]
    },
    {
     "data": {
      "text/plain": [
       "(10, 2)"
      ]
     },
     "execution_count": 92,
     "metadata": {},
     "output_type": "execute_result"
    }
   ],
   "source": [
    "def first2_day(entry):\n",
    "    return entry.iloc[0:2]\n",
    "print( \\\n",
    "df.resample(rule = 'A').apply(first2_day)      .shape)\n",
    "\n",
    "def first2_day_2_col(entry):\n",
    "    return entry.iloc[0:2][['Open', 'High']]\n",
    "df.resample(rule = 'A').apply(first2_day_2_col)      .shape "
   ]
  },
  {
   "cell_type": "markdown",
   "metadata": {},
   "source": [
    "### Resample with visualization "
   ]
  },
  {
   "cell_type": "code",
   "execution_count": 116,
   "metadata": {},
   "outputs": [
    {
     "data": {
      "text/plain": [
       "<matplotlib.axes._subplots.AxesSubplot at 0x1a2a121690>"
      ]
     },
     "execution_count": 116,
     "metadata": {},
     "output_type": "execute_result"
    },
    {
     "data": {
      "image/png": "[encoded data removed]",
      "text/plain": [
       "<Figure size 1152x288 with 1 Axes>"
      ]
     },
     "metadata": {
      "needs_background": "light"
     },
     "output_type": "display_data"
    }
   ],
   "source": [
    "df['Close'].resample(rule = 'M').mean().plot.bar(figsize = (16,4))"
   ]
  },
  {
   "cell_type": "code",
   "execution_count": 194,
   "metadata": {},
   "outputs": [
    {
     "data": {
      "text/plain": [
       "<matplotlib.axes._subplots.AxesSubplot at 0x1a2cdc3d50>"
      ]
     },
     "execution_count": 194,
     "metadata": {},
     "output_type": "execute_result"
    },
    {
     "data": {
      "image/png": "[encoded data removed]",
      "text/plain": [
       "<Figure size 1152x360 with 1 Axes>"
      ]
     },
     "metadata": {
      "needs_background": "light"
     },
     "output_type": "display_data"
    }
   ],
   "source": [
    "import matplotlib.dates as dates\n",
    "fig, ax = plt.subplots(figsize = (16,5))\n",
    "\n",
    "unstacked = df['Close'].resample(rule = 'M').apply(lambda x:x[0:-1]).unstack().transpose()\n",
    "unstacked.plot.box(ax = ax)\n",
    "\n",
    "# ax.xaxis.set_major_locator(dates.())  # MonthLocator\n",
    "# ax.xaxis.set_major_formatter(dates.DateFormatter('\\n\\n%Y')) # '\\n\\n%b-%Y'\n"
   ]
  },
  {
   "cell_type": "code",
   "execution_count": null,
   "metadata": {},
   "outputs": [],
   "source": []
  },
  {
   "cell_type": "code",
   "execution_count": null,
   "metadata": {},
   "outputs": [],
   "source": []
  },
  {
   "cell_type": "code",
   "execution_count": null,
   "metadata": {},
   "outputs": [],
   "source": []
  },
  {
   "cell_type": "code",
   "execution_count": null,
   "metadata": {},
   "outputs": [],
   "source": []
  },
  {
   "cell_type": "code",
   "execution_count": null,
   "metadata": {},
   "outputs": [],
   "source": []
  },
  {
   "cell_type": "code",
   "execution_count": null,
   "metadata": {},
   "outputs": [],
   "source": []
  },
  {
   "cell_type": "code",
   "execution_count": null,
   "metadata": {},
   "outputs": [],
   "source": []
  },
  {
   "cell_type": "code",
   "execution_count": null,
   "metadata": {},
   "outputs": [],
   "source": []
  },
  {
   "cell_type": "code",
   "execution_count": null,
   "metadata": {},
   "outputs": [],
   "source": []
  }
 ],
 "metadata": {
  "kernelspec": {
   "display_name": "Python 3",
   "language": "python",
   "name": "python3"
  },
  "language_info": {
   "codemirror_mode": {
    "name": "ipython",
    "version": 3
   },
   "file_extension": ".py",
   "mimetype": "text/x-python",
   "name": "python",
   "nbconvert_exporter": "python",
   "pygments_lexer": "ipython3",
   "version": "3.7.4"
  }
 },
 "nbformat": 4,
 "nbformat_minor": 4
}
