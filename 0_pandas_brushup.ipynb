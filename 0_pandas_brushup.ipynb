{
 "cells": [
  {
   "cell_type": "code",
   "execution_count": 412,
   "metadata": {},
   "outputs": [],
   "source": [
    "import numpy as np\n",
    "import pandas as pd\n",
    "from numpy.random import randn\n",
    "np.random.seed(101)\n",
    "DATA_DIR = '/Users/nathanzhao/Desktop/Python_quant_finance' + \\\n",
    "        '/Python-for-Finance-Repo-master-master' + \\\n",
    "        '/03-General Pandas' "
   ]
  },
  {
   "cell_type": "markdown",
   "metadata": {},
   "source": [
    "# Catalog:\n",
    "* ### Series\n",
    "* ### DataFrame\n",
    "* ### Missing Data\n",
    "* ### Groupby, then aggregate\n",
    "* ### Concatenate, Merge by key (of columns), Join (merge with index as key)\n",
    "* ### Operations: Unique, \"Apply\" method, Column/index names, Sort, Is null, Pivot tables\n",
    "* ### Data Input & Output\n"
   ]
  },
  {
   "cell_type": "markdown",
   "metadata": {},
   "source": [
    "================================================\n",
    "================================================"
   ]
  },
  {
   "cell_type": "markdown",
   "metadata": {},
   "source": [
    "## Series"
   ]
  },
  {
   "cell_type": "markdown",
   "metadata": {},
   "source": [
    "### Create Pandas Series,\n",
    "* arguments: data & index "
   ]
  },
  {
   "cell_type": "code",
   "execution_count": 17,
   "metadata": {},
   "outputs": [],
   "source": [
    "ls = np.array([10,20,30])\n",
    "labels = ['a','b','c']\n",
    "ser1 = pd.Series(data = ls, index = labels)"
   ]
  },
  {
   "cell_type": "code",
   "execution_count": 18,
   "metadata": {},
   "outputs": [
    {
     "data": {
      "text/plain": [
       "10"
      ]
     },
     "execution_count": 18,
     "metadata": {},
     "output_type": "execute_result"
    }
   ],
   "source": [
    "ser1['a']\n",
    "ser1[0]"
   ]
  },
  {
   "cell_type": "code",
   "execution_count": 19,
   "metadata": {},
   "outputs": [
    {
     "data": {
      "text/plain": [
       "a    2.0\n",
       "b    4.0\n",
       "c    NaN\n",
       "d    NaN\n",
       "dtype: float64"
      ]
     },
     "execution_count": 19,
     "metadata": {},
     "output_type": "execute_result"
    }
   ],
   "source": [
    "ser1 = pd.Series([1,2,3], index = ['a','b','c'])\n",
    "ser2 = pd.Series([1,2,3], index = ['a','b','d'])\n",
    "ser1 + ser2"
   ]
  },
  {
   "cell_type": "markdown",
   "metadata": {},
   "source": [
    "-------------\n",
    "-------------"
   ]
  },
  {
   "cell_type": "markdown",
   "metadata": {},
   "source": [
    "# DataFrame\n",
    "* Create DataFrame\n",
    "* Create new column\n",
    "* Drop a column/row\n",
    "* Selection of columns: [\"...\"]\n",
    "* Selection of rows: loc[...], iloc[...], [T/F]\n",
    "* Selection of rows & columns: loc[..., ...], iloc[..., ...], [T/F][...]\n",
    "* Index: reset index, set index (to column)\n",
    "* Index Hierarchy\n",
    "* Selection from hierarchical dataframe: 【loc[...].loc[...]】, 【iloc[...]】,【xs(..., level = )】\"Cross Section\""
   ]
  },
  {
   "cell_type": "markdown",
   "metadata": {},
   "source": [
    "### Create DataFrame, \n",
    "* arguments: data, index, columns\n",
    "* each column is just a pd.Series"
   ]
  },
  {
   "cell_type": "code",
   "execution_count": 173,
   "metadata": {},
   "outputs": [],
   "source": [
    "df = pd.DataFrame(data = randn(5,4), index = ['a','b','c','d','e'], columns = ['w','x','y','z'])"
   ]
  },
  {
   "cell_type": "markdown",
   "metadata": {},
   "source": [
    "### Create new column\n",
    "* from combination of existing column"
   ]
  },
  {
   "cell_type": "code",
   "execution_count": 166,
   "metadata": {},
   "outputs": [
    {
     "data": {
      "text/plain": [
       "(5, 5)"
      ]
     },
     "execution_count": 166,
     "metadata": {},
     "output_type": "execute_result"
    }
   ],
   "source": [
    "df['new'] = df['x'] + df['w']\n",
    "df.shape"
   ]
  },
  {
   "cell_type": "markdown",
   "metadata": {},
   "source": [
    "### Drop a column/row,\n",
    "*  arguments: labels, axis, inplace"
   ]
  },
  {
   "cell_type": "code",
   "execution_count": 167,
   "metadata": {},
   "outputs": [
    {
     "data": {
      "text/plain": [
       "(5, 4)"
      ]
     },
     "execution_count": 167,
     "metadata": {},
     "output_type": "execute_result"
    }
   ],
   "source": [
    "df.drop(labels = 'new', axis = 1, inplace = True)\n",
    "df.drop(labels = 'e', axis = 0, inplace = False)\n",
    "df.shape"
   ]
  },
  {
   "cell_type": "markdown",
   "metadata": {},
   "source": [
    "### Selection of columns: [\"...\"]"
   ]
  },
  {
   "cell_type": "code",
   "execution_count": 168,
   "metadata": {},
   "outputs": [
    {
     "data": {
      "text/plain": [
       "pandas.core.series.Series"
      ]
     },
     "execution_count": 168,
     "metadata": {},
     "output_type": "execute_result"
    }
   ],
   "source": [
    "df['w']\n",
    "type(df['w'])"
   ]
  },
  {
   "cell_type": "code",
   "execution_count": 169,
   "metadata": {},
   "outputs": [
    {
     "data": {
      "text/plain": [
       "pandas.core.frame.DataFrame"
      ]
     },
     "execution_count": 169,
     "metadata": {},
     "output_type": "execute_result"
    }
   ],
   "source": [
    "# BEST\n",
    "df[['w','y']]\n",
    "type(df[['w','y']])"
   ]
  },
  {
   "cell_type": "markdown",
   "metadata": {},
   "source": [
    "### Selection of rows: loc[...], iloc[...], [T/F]"
   ]
  },
  {
   "cell_type": "code",
   "execution_count": 170,
   "metadata": {},
   "outputs": [
    {
     "data": {
      "text/plain": [
       "pandas.core.series.Series"
      ]
     },
     "execution_count": 170,
     "metadata": {},
     "output_type": "execute_result"
    }
   ],
   "source": [
    "df.loc['a']\n",
    "df.iloc[1]\n",
    "type(df.loc['a'])"
   ]
  },
  {
   "cell_type": "code",
   "execution_count": 171,
   "metadata": {},
   "outputs": [
    {
     "data": {
      "text/plain": [
       "pandas.core.frame.DataFrame"
      ]
     },
     "execution_count": 171,
     "metadata": {},
     "output_type": "execute_result"
    }
   ],
   "source": [
    "# BEST\n",
    "df.loc[['a','b']]\n",
    "df.iloc[[0,1]]\n",
    "\n",
    "df[[True,False,True,False,False]]\n",
    "df.loc[[True,False,True,False,False]]\n",
    "df.iloc[[True,False,True,False,False]]\n",
    "\n",
    "# BEST\n",
    "df[ (df['w'] + df['y'])>0 ]\n",
    "df[ (df['w']>0) | (df['y']>0)]\n",
    "df[ (df['w']>0) & (df['y']>0)]\n",
    "\n",
    "df.loc[      (df['w']>0) & (df['y']>0) ]\n",
    "df.iloc[list((df['w']>0) & (df['y']>0))]\n",
    "df.iloc[    ((df['w']>0) & (df['y']>0)).values]\n",
    "\n",
    "type(df[ (df['w']>0) | (df['y']>0)])"
   ]
  },
  {
   "cell_type": "markdown",
   "metadata": {},
   "source": [
    "### Selection of rows & columns: loc[..., ...], iloc[..., ...], [T/F][..]"
   ]
  },
  {
   "cell_type": "code",
   "execution_count": 202,
   "metadata": {},
   "outputs": [
    {
     "data": {
      "text/plain": [
       "pandas.core.frame.DataFrame"
      ]
     },
     "execution_count": 202,
     "metadata": {},
     "output_type": "execute_result"
    }
   ],
   "source": [
    "df.loc[['a','b'], ['w','w']]\n",
    "df.iloc[[0,1], [2,3]]\n",
    "\n",
    "df.loc[[True,False,True,False,False], ['w','w']]\n",
    "df.iloc[[True,False,True,False,False],[2,3]]\n",
    "\n",
    "df.loc[(df['w']>0) | (df['y']>0), ['w']]\n",
    "df.iloc[((df['w']>0) | (df['y']>0)).values, [1,2]]\n",
    "\n",
    "# BEST\n",
    "df[(df['w']>0) | (df['y']>0)]   ['w']\n",
    "df.loc[(df['w']>0) | (df['y']>0)]   [['w','y']]\n",
    "df.iloc[((df['w']>0) | (df['y']>0)).values]   [['w','y']]\n",
    "\n",
    "type(df.iloc[((df['w']>0) | (df['y']>0)).values, [1,2]])"
   ]
  },
  {
   "cell_type": "markdown",
   "metadata": {},
   "source": [
    "#### Conditional Selection (useless demo)\n",
    "* Get \"NaN\" when Conditional select on the entire df\n",
    "* No \"NaN\" when selecting rows: see up there"
   ]
  },
  {
   "cell_type": "code",
   "execution_count": 186,
   "metadata": {},
   "outputs": [
    {
     "data": {
      "text/html": [
       "<div>\n",
       "<style scoped>\n",
       "    .dataframe tbody tr th:only-of-type {\n",
       "        vertical-align: middle;\n",
       "    }\n",
       "\n",
       "    .dataframe tbody tr th {\n",
       "        vertical-align: top;\n",
       "    }\n",
       "\n",
       "    .dataframe thead th {\n",
       "        text-align: right;\n",
       "    }\n",
       "</style>\n",
       "<table border=\"1\" class=\"dataframe\">\n",
       "  <thead>\n",
       "    <tr style=\"text-align: right;\">\n",
       "      <th></th>\n",
       "      <th>w</th>\n",
       "      <th>x</th>\n",
       "      <th>y</th>\n",
       "      <th>z</th>\n",
       "    </tr>\n",
       "  </thead>\n",
       "  <tbody>\n",
       "    <tr>\n",
       "      <td>a</td>\n",
       "      <td>NaN</td>\n",
       "      <td>1.062710</td>\n",
       "      <td>1.752014</td>\n",
       "      <td>0.695547</td>\n",
       "    </tr>\n",
       "    <tr>\n",
       "      <td>b</td>\n",
       "      <td>0.153661</td>\n",
       "      <td>0.167638</td>\n",
       "      <td>-0.765930</td>\n",
       "      <td>0.962299</td>\n",
       "    </tr>\n",
       "    <tr>\n",
       "      <td>c</td>\n",
       "      <td>0.902826</td>\n",
       "      <td>-0.537909</td>\n",
       "      <td>-1.549671</td>\n",
       "      <td>0.435253</td>\n",
       "    </tr>\n",
       "    <tr>\n",
       "      <td>d</td>\n",
       "      <td>1.259904</td>\n",
       "      <td>NaN</td>\n",
       "      <td>0.266207</td>\n",
       "      <td>0.412580</td>\n",
       "    </tr>\n",
       "    <tr>\n",
       "      <td>e</td>\n",
       "      <td>0.988773</td>\n",
       "      <td>0.513833</td>\n",
       "      <td>-0.928205</td>\n",
       "      <td>0.846904</td>\n",
       "    </tr>\n",
       "  </tbody>\n",
       "</table>\n",
       "</div>"
      ],
      "text/plain": [
       "          w         x         y         z\n",
       "a       NaN  1.062710  1.752014  0.695547\n",
       "b  0.153661  0.167638 -0.765930  0.962299\n",
       "c  0.902826 -0.537909 -1.549671  0.435253\n",
       "d  1.259904       NaN  0.266207  0.412580\n",
       "e  0.988773  0.513833 -0.928205  0.846904"
      ]
     },
     "execution_count": 186,
     "metadata": {},
     "output_type": "execute_result"
    }
   ],
   "source": [
    "booldf = df > 0\n",
    "booldf_1 = df < -0.5\n",
    "booldf_2 = booldf | booldf_1\n",
    "df[booldf_2]"
   ]
  },
  {
   "cell_type": "markdown",
   "metadata": {},
   "source": [
    "### Index: reset index, set index (to column)\n",
    "* argument: inplace"
   ]
  },
  {
   "cell_type": "code",
   "execution_count": 207,
   "metadata": {},
   "outputs": [
    {
     "data": {
      "text/plain": [
       "(5, 5)"
      ]
     },
     "execution_count": 207,
     "metadata": {},
     "output_type": "execute_result"
    }
   ],
   "source": [
    "df.reset_index(inplace = False).shape"
   ]
  },
  {
   "cell_type": "code",
   "execution_count": 215,
   "metadata": {},
   "outputs": [
    {
     "data": {
      "text/plain": [
       "(5, 4)"
      ]
     },
     "execution_count": 215,
     "metadata": {},
     "output_type": "execute_result"
    }
   ],
   "source": [
    "newind = 'CA NY WY OR CO'.split()\n",
    "# Create a new column with this list of new index\n",
    "df['states'] = newind\n",
    "# Set index to column: This will overwrite the old index, need to manually retain it\n",
    "df.set_index(keys = 'states', inplace = False).shape"
   ]
  },
  {
   "cell_type": "markdown",
   "metadata": {},
   "source": [
    "### Index Hierarchy"
   ]
  },
  {
   "cell_type": "code",
   "execution_count": 219,
   "metadata": {},
   "outputs": [],
   "source": [
    "outside = 'g1 g1 g1 g2 g2 g2'.split()\n",
    "inside = [1,2,3,1,2,3]\n",
    "hier_index = list(zip(outside, inside))\n",
    "hier_index = pd.MultiIndex.from_tuples(hier_index)"
   ]
  },
  {
   "cell_type": "code",
   "execution_count": 225,
   "metadata": {},
   "outputs": [
    {
     "data": {
      "text/html": [
       "<div>\n",
       "<style scoped>\n",
       "    .dataframe tbody tr th:only-of-type {\n",
       "        vertical-align: middle;\n",
       "    }\n",
       "\n",
       "    .dataframe tbody tr th {\n",
       "        vertical-align: top;\n",
       "    }\n",
       "\n",
       "    .dataframe thead th {\n",
       "        text-align: right;\n",
       "    }\n",
       "</style>\n",
       "<table border=\"1\" class=\"dataframe\">\n",
       "  <thead>\n",
       "    <tr style=\"text-align: right;\">\n",
       "      <th></th>\n",
       "      <th></th>\n",
       "      <th>a</th>\n",
       "      <th>b</th>\n",
       "    </tr>\n",
       "  </thead>\n",
       "  <tbody>\n",
       "    <tr>\n",
       "      <td rowspan=\"3\" valign=\"top\">g1</td>\n",
       "      <td>1</td>\n",
       "      <td>-0.854860</td>\n",
       "      <td>1.602816</td>\n",
       "    </tr>\n",
       "    <tr>\n",
       "      <td>2</td>\n",
       "      <td>0.185479</td>\n",
       "      <td>-0.994018</td>\n",
       "    </tr>\n",
       "    <tr>\n",
       "      <td>3</td>\n",
       "      <td>-0.131906</td>\n",
       "      <td>-1.335092</td>\n",
       "    </tr>\n",
       "    <tr>\n",
       "      <td rowspan=\"3\" valign=\"top\">g2</td>\n",
       "      <td>1</td>\n",
       "      <td>-0.089298</td>\n",
       "      <td>0.698566</td>\n",
       "    </tr>\n",
       "    <tr>\n",
       "      <td>2</td>\n",
       "      <td>-1.409126</td>\n",
       "      <td>0.870907</td>\n",
       "    </tr>\n",
       "    <tr>\n",
       "      <td>3</td>\n",
       "      <td>1.585812</td>\n",
       "      <td>0.929658</td>\n",
       "    </tr>\n",
       "  </tbody>\n",
       "</table>\n",
       "</div>"
      ],
      "text/plain": [
       "             a         b\n",
       "g1 1 -0.854860  1.602816\n",
       "   2  0.185479 -0.994018\n",
       "   3 -0.131906 -1.335092\n",
       "g2 1 -0.089298  0.698566\n",
       "   2 -1.409126  0.870907\n",
       "   3  1.585812  0.929658"
      ]
     },
     "execution_count": 225,
     "metadata": {},
     "output_type": "execute_result"
    }
   ],
   "source": [
    "df = pd.DataFrame(data = randn(6,2), index = hier_index, columns = ['a','b'])\n",
    "df.index.names = ['groups', 'num']\n",
    "df"
   ]
  },
  {
   "cell_type": "markdown",
   "metadata": {},
   "source": [
    "### Selection from hierarchical dataframe: 【loc[...].loc[...]】, 【iloc[...]】,【xs(..., level = )】\"Cross Section\"\n",
    "* xs(..., level = )只能用在 MultiIndex 上\n",
    "* xs(...) 可以用在 MultiIndex 或 Index 上，（replace loc？）"
   ]
  },
  {
   "cell_type": "code",
   "execution_count": 248,
   "metadata": {},
   "outputs": [
    {
     "data": {
      "text/plain": [
       "1.6028155369261388"
      ]
     },
     "execution_count": 248,
     "metadata": {},
     "output_type": "execute_result"
    }
   ],
   "source": [
    "df.loc['g1']\n",
    "df.loc['g1'].loc[1]\n",
    "df.loc['g1'].loc[1]['b']\n",
    "\n",
    "df.xs(1, level = 'num')\n",
    "df.xs(1, level = 'num').loc['g1']\n",
    "df.xs(1, level = 'num') .xs('g1')\n",
    "df.xs(1, level = 'num') .xs('g1') ['b']"
   ]
  },
  {
   "cell_type": "markdown",
   "metadata": {},
   "source": [
    "--------------\n",
    "-------------"
   ]
  },
  {
   "cell_type": "markdown",
   "metadata": {},
   "source": [
    "# Missing Data\n",
    "* Drop missing row/column: dropna()\n",
    "* Fill in missing values: fillna()"
   ]
  },
  {
   "cell_type": "markdown",
   "metadata": {},
   "source": [
    "### Drop missing row/column: dropna()\n",
    "* arguments: axis, inplace, thresh (require that many non-nan values to not get dropped)"
   ]
  },
  {
   "cell_type": "code",
   "execution_count": 249,
   "metadata": {},
   "outputs": [],
   "source": [
    "dic = {'a': [1,2,np.nan], 'b': [5,np.nan, np.nan], 'c':[1,2,3]}\n",
    "df = pd.DataFrame(dic)"
   ]
  },
  {
   "cell_type": "code",
   "execution_count": 262,
   "metadata": {},
   "outputs": [
    {
     "data": {
      "text/plain": [
       "(3, 2)"
      ]
     },
     "execution_count": 262,
     "metadata": {},
     "output_type": "execute_result"
    }
   ],
   "source": [
    "df.dropna(axis = 1, inplace = False, thresh = 2).shape"
   ]
  },
  {
   "cell_type": "markdown",
   "metadata": {},
   "source": [
    "### Fill in missing values: fillna()\n",
    "* arguments: value, axis\n",
    "* pre-decided value, mean of column"
   ]
  },
  {
   "cell_type": "code",
   "execution_count": 266,
   "metadata": {},
   "outputs": [
    {
     "data": {
      "text/plain": [
       "(3,)"
      ]
     },
     "execution_count": 266,
     "metadata": {},
     "output_type": "execute_result"
    }
   ],
   "source": [
    "df.fillna(value = 'FILL')\n",
    "\n",
    "# Fill in the mean of the column\n",
    "df['a'].fillna(value = df['a'].mean())    .shape"
   ]
  },
  {
   "cell_type": "markdown",
   "metadata": {},
   "source": [
    "-------------\n",
    "-------------"
   ]
  },
  {
   "cell_type": "markdown",
   "metadata": {},
   "source": [
    "# Groupby, then aggregate\n",
    "* by column name\n",
    "* useful AGGREGATE: \n",
    "    * mean() (sum, std..) only numerical column\n",
    "    * count(), max()\n",
    "    * describe()"
   ]
  },
  {
   "cell_type": "code",
   "execution_count": 276,
   "metadata": {},
   "outputs": [],
   "source": [
    "data = {'company' : ['GO','GO','MS', 'MS','FB','FB'], \n",
    "        'person' : ['a','b','c','d','e','f'],\n",
    "        'sales' : [200, 120, 340, 124, 243, 350],\n",
    "        'salary': [100, 200, 300, 200, 100, 300]\n",
    "       }\n",
    "df =  pd.DataFrame(data = data)"
   ]
  },
  {
   "cell_type": "code",
   "execution_count": 294,
   "metadata": {},
   "outputs": [
    {
     "data": {
      "text/plain": [
       "(16,)"
      ]
     },
     "execution_count": 294,
     "metadata": {},
     "output_type": "execute_result"
    }
   ],
   "source": [
    "# Generate groupby object\n",
    "byComp = df.groupby('company')\n",
    "# Call AGGREGATE function, e.g. mean() => automatically ignore non-numerical\n",
    "byComp.mean()\n",
    "\n",
    "df.groupby('company')  .mean().loc['FB']['salary']\n",
    "df.groupby('company')['salary']  .mean().loc['FB']\n",
    "\n",
    "df.groupby('company')  .count()\n",
    "\n",
    "df.groupby('company')  .describe().loc['FB'].shape"
   ]
  },
  {
   "cell_type": "markdown",
   "metadata": {},
   "source": [
    "-------------\n",
    "-------------"
   ]
  },
  {
   "cell_type": "markdown",
   "metadata": {},
   "source": [
    "# Concatenate, Merge by key, Join (merge with index as key)\n",
    "* concat: objs, axis\n",
    "* merge: left, right, how (inner, outer, left, right), on ([keys...])\n",
    "* join: other, how"
   ]
  },
  {
   "cell_type": "code",
   "execution_count": 297,
   "metadata": {},
   "outputs": [],
   "source": [
    "df1 = pd.DataFrame(data = randn(4,4), index = [0,1,2,3], columns = ['a','b','c','d',])\n",
    "df2 = pd.DataFrame(data = randn(4,4), index = [4,5,6,7], columns = ['a','b','c','d',])\n",
    "df3 = pd.DataFrame(data = randn(4,4), index = [8,9,10,11], columns = ['a','b','c','d',])"
   ]
  },
  {
   "cell_type": "code",
   "execution_count": 318,
   "metadata": {},
   "outputs": [
    {
     "data": {
      "text/plain": [
       "((12, 4), (12, 12))"
      ]
     },
     "execution_count": 318,
     "metadata": {},
     "output_type": "execute_result"
    }
   ],
   "source": [
    "(pd.concat(objs = [df1,df2,df3], axis = 0).shape,  \\\n",
    "pd.concat(objs = [df1,df2,df3], axis = 1).shape)"
   ]
  },
  {
   "cell_type": "code",
   "execution_count": 335,
   "metadata": {},
   "outputs": [],
   "source": [
    "left = pd.DataFrame({'key1': ['K0', 'K1', 'K0', 'K1', ],\n",
    "                     'key2': ['K0', 'K0', 'K1', 'K1', ],\n",
    "                     'A': list(np.arange(0,4,1)),\n",
    "                     'B': list(np.arange(0,-4,-1))})\n",
    "right = pd.DataFrame({'key1': ['K1', 'K0', 'K3', 'K2', ],\n",
    "                      'key2': ['K1', 'K0', 'K3', 'K2', ],\n",
    "                     'C': list(np.arange(0,4,1)),\n",
    "                     'D': list(np.arange(0,-4,-1))})"
   ]
  },
  {
   "cell_type": "code",
   "execution_count": 336,
   "metadata": {},
   "outputs": [
    {
     "name": "stdout",
     "output_type": "stream",
     "text": [
      "(2, 6) (6, 6) (4, 6) (4, 6)\n"
     ]
    }
   ],
   "source": [
    "print(\n",
    "pd.merge(left = left, right = right, how = 'inner', on = ['key1','key2']).shape,  \\\n",
    "pd.merge(left = left, right = right, how = 'outer', on = ['key1','key2']).shape,  \\\n",
    "pd.merge(left = left, right = right, how = 'left', on = ['key1','key2']).shape,  \\\n",
    "pd.merge(left = left, right = right, how = 'right', on = ['key1','key2']).shape,\n",
    ")"
   ]
  },
  {
   "cell_type": "code",
   "execution_count": 337,
   "metadata": {},
   "outputs": [],
   "source": [
    "left = pd.DataFrame({'A': list(randn(3)),\n",
    "                    'B': list(randn(3))},\n",
    "                   index = ['a','b','c'])\n",
    "right = pd.DataFrame({'C': list(randn(3)),\n",
    "                    'D': list(randn(3))},\n",
    "                   index = ['a','c','d'])"
   ]
  },
  {
   "cell_type": "code",
   "execution_count": 339,
   "metadata": {},
   "outputs": [
    {
     "data": {
      "text/plain": [
       "(3, 4)"
      ]
     },
     "execution_count": 339,
     "metadata": {},
     "output_type": "execute_result"
    }
   ],
   "source": [
    "left.join(other = right, how = 'left').shape"
   ]
  },
  {
   "cell_type": "markdown",
   "metadata": {},
   "source": [
    "-------------\n",
    "-------------"
   ]
  },
  {
   "cell_type": "markdown",
   "metadata": {},
   "source": [
    "# Operations: \n",
    "* Unique values in dataframe (/column)\n",
    "* \"Apply\" method\n",
    "* Get column/index names\n",
    "* Sort dataframe\n",
    "* whether is null\n",
    "* Pivot tables"
   ]
  },
  {
   "cell_type": "markdown",
   "metadata": {},
   "source": [
    "### Find (# of) unique values in a dataframe (/column)\n",
    "* Value counts in column"
   ]
  },
  {
   "cell_type": "code",
   "execution_count": 347,
   "metadata": {},
   "outputs": [],
   "source": [
    "df = pd.DataFrame({'col1': range(1,5),\n",
    "                   'col2': [444,555,666,444],\n",
    "                   'col3': ['ae','bcd','cdf','d']})"
   ]
  },
  {
   "cell_type": "code",
   "execution_count": 348,
   "metadata": {},
   "outputs": [
    {
     "data": {
      "text/plain": [
       "444    2\n",
       "555    1\n",
       "666    1\n",
       "Name: col2, dtype: int64"
      ]
     },
     "execution_count": 348,
     "metadata": {},
     "output_type": "execute_result"
    }
   ],
   "source": [
    "df['col2'].unique()\n",
    "df['col2'].nunique()\n",
    "\n",
    "df['col2'].value_counts()"
   ]
  },
  {
   "cell_type": "markdown",
   "metadata": {},
   "source": [
    "### \"Apply\" method"
   ]
  },
  {
   "cell_type": "code",
   "execution_count": 357,
   "metadata": {},
   "outputs": [],
   "source": [
    "def times2(x):\n",
    "    return x*2\n",
    "df['col2'].apply(times2)\n",
    "\n",
    "# Also default functions too\n",
    "df['col3'].apply(len)\n",
    "\n",
    "# BEST: lambda function\n",
    "df['col2'] = df['col2'].apply(lambda x: x*2)  "
   ]
  },
  {
   "cell_type": "markdown",
   "metadata": {},
   "source": [
    "### Get column/index names"
   ]
  },
  {
   "cell_type": "code",
   "execution_count": 359,
   "metadata": {},
   "outputs": [
    {
     "data": {
      "text/plain": [
       "RangeIndex(start=0, stop=4, step=1)"
      ]
     },
     "execution_count": 359,
     "metadata": {},
     "output_type": "execute_result"
    }
   ],
   "source": [
    "df.columns\n",
    "df.index"
   ]
  },
  {
   "cell_type": "markdown",
   "metadata": {},
   "source": [
    "### Sorting dataframe\n",
    "* by a column (index stays attached)"
   ]
  },
  {
   "cell_type": "code",
   "execution_count": 362,
   "metadata": {},
   "outputs": [
    {
     "data": {
      "text/plain": [
       "(4, 3)"
      ]
     },
     "execution_count": 362,
     "metadata": {},
     "output_type": "execute_result"
    }
   ],
   "source": [
    "df.sort_values(by = 'col2', axis = 0)     .shape"
   ]
  },
  {
   "cell_type": "markdown",
   "metadata": {},
   "source": [
    "### Whether a value of null or not"
   ]
  },
  {
   "cell_type": "code",
   "execution_count": 364,
   "metadata": {},
   "outputs": [
    {
     "data": {
      "text/plain": [
       "(4, 3)"
      ]
     },
     "execution_count": 364,
     "metadata": {},
     "output_type": "execute_result"
    }
   ],
   "source": [
    "df.isnull()     .shape"
   ]
  },
  {
   "cell_type": "markdown",
   "metadata": {},
   "source": [
    "### Pivot table:\n",
    "*  arguments: values, index, columns"
   ]
  },
  {
   "cell_type": "code",
   "execution_count": 365,
   "metadata": {},
   "outputs": [],
   "source": [
    "data = {'A':['foo','foo','foo','bar','bar','bar'],\n",
    "     'B':['one','one','two','two','one','one'],\n",
    "       'C':['x','y','x','y','x','y'],\n",
    "       'D':[1,3,2,5,4,1]}\n",
    "df = pd.DataFrame(data)"
   ]
  },
  {
   "cell_type": "code",
   "execution_count": 374,
   "metadata": {},
   "outputs": [
    {
     "data": {
      "text/html": [
       "<div>\n",
       "<style scoped>\n",
       "    .dataframe tbody tr th:only-of-type {\n",
       "        vertical-align: middle;\n",
       "    }\n",
       "\n",
       "    .dataframe tbody tr th {\n",
       "        vertical-align: top;\n",
       "    }\n",
       "\n",
       "    .dataframe thead tr th {\n",
       "        text-align: left;\n",
       "    }\n",
       "\n",
       "    .dataframe thead tr:last-of-type th {\n",
       "        text-align: right;\n",
       "    }\n",
       "</style>\n",
       "<table border=\"1\" class=\"dataframe\">\n",
       "  <thead>\n",
       "    <tr>\n",
       "      <th></th>\n",
       "      <th>B</th>\n",
       "      <th colspan=\"2\" halign=\"left\">one</th>\n",
       "      <th colspan=\"2\" halign=\"left\">two</th>\n",
       "    </tr>\n",
       "    <tr>\n",
       "      <th></th>\n",
       "      <th>C</th>\n",
       "      <th>x</th>\n",
       "      <th>y</th>\n",
       "      <th>x</th>\n",
       "      <th>y</th>\n",
       "    </tr>\n",
       "    <tr>\n",
       "      <th>A</th>\n",
       "      <th>B</th>\n",
       "      <th></th>\n",
       "      <th></th>\n",
       "      <th></th>\n",
       "      <th></th>\n",
       "    </tr>\n",
       "  </thead>\n",
       "  <tbody>\n",
       "    <tr>\n",
       "      <td rowspan=\"2\" valign=\"top\">bar</td>\n",
       "      <td>one</td>\n",
       "      <td>4.0</td>\n",
       "      <td>1.0</td>\n",
       "      <td>NaN</td>\n",
       "      <td>NaN</td>\n",
       "    </tr>\n",
       "    <tr>\n",
       "      <td>two</td>\n",
       "      <td>NaN</td>\n",
       "      <td>NaN</td>\n",
       "      <td>NaN</td>\n",
       "      <td>5.0</td>\n",
       "    </tr>\n",
       "    <tr>\n",
       "      <td rowspan=\"2\" valign=\"top\">foo</td>\n",
       "      <td>one</td>\n",
       "      <td>1.0</td>\n",
       "      <td>3.0</td>\n",
       "      <td>NaN</td>\n",
       "      <td>NaN</td>\n",
       "    </tr>\n",
       "    <tr>\n",
       "      <td>two</td>\n",
       "      <td>NaN</td>\n",
       "      <td>NaN</td>\n",
       "      <td>2.0</td>\n",
       "      <td>NaN</td>\n",
       "    </tr>\n",
       "  </tbody>\n",
       "</table>\n",
       "</div>"
      ],
      "text/plain": [
       "B        one       two     \n",
       "C          x    y    x    y\n",
       "A   B                      \n",
       "bar one  4.0  1.0  NaN  NaN\n",
       "    two  NaN  NaN  NaN  5.0\n",
       "foo one  1.0  3.0  NaN  NaN\n",
       "    two  NaN  NaN  2.0  NaN"
      ]
     },
     "execution_count": 374,
     "metadata": {},
     "output_type": "execute_result"
    }
   ],
   "source": [
    "df.pivot_table(values='D', index = ['A','B'], columns = ['C'])\n",
    "df.pivot_table(values='D', index = ['A'], columns = ['B','C'])\n",
    "df.pivot_table(values='D', index = ['A','B'], columns = ['B','C'])"
   ]
  },
  {
   "cell_type": "markdown",
   "metadata": {},
   "source": [
    "-------------\n",
    "-------------"
   ]
  },
  {
   "cell_type": "markdown",
   "metadata": {},
   "source": [
    "# Data Input & Output\n",
    "* CSV\n",
    "* Excel\n",
    "* HTML\n",
    "* SQL"
   ]
  },
  {
   "cell_type": "code",
   "execution_count": 376,
   "metadata": {},
   "outputs": [],
   "source": [
    "DATA_DIR = '/Users/nathanzhao/Desktop/Python_quant_finance' + \\\n",
    "        '/Python-for-Finance-Repo-master-master' + \\\n",
    "        '/03-General Pandas' \n"
   ]
  },
  {
   "cell_type": "markdown",
   "metadata": {},
   "source": [
    "### CSV: read_csv, to_csv (from df)\n",
    "* to_csv: index T/F"
   ]
  },
  {
   "cell_type": "code",
   "execution_count": 384,
   "metadata": {},
   "outputs": [],
   "source": [
    "df = \\\n",
    "pd.read_csv(DATA_DIR+'/example')    "
   ]
  },
  {
   "cell_type": "code",
   "execution_count": 386,
   "metadata": {},
   "outputs": [],
   "source": [
    "df.to_csv(DATA_DIR+ '/output', index = False)"
   ]
  },
  {
   "cell_type": "markdown",
   "metadata": {},
   "source": [
    "### Excel: read_excel, to_excel\n",
    "* argument: sheet_name, index_col\n",
    "* no graph or formula allowed; \n",
    "* may need xlrd library"
   ]
  },
  {
   "cell_type": "code",
   "execution_count": 395,
   "metadata": {},
   "outputs": [],
   "source": [
    "df =pd.read_excel(DATA_DIR+ '/Excel_Sample.xlsx', sheet_name = 'Sheet1', index_col = 0)"
   ]
  },
  {
   "cell_type": "code",
   "execution_count": 397,
   "metadata": {},
   "outputs": [],
   "source": [
    "df.to_excel(DATA_DIR+ '/Excel_output.xlsx', sheet_name = 'Sheet1')"
   ]
  },
  {
   "cell_type": "markdown",
   "metadata": {},
   "source": [
    "### HTML:\n",
    "* loop through the list from read_html, until see the right thing\n"
   ]
  },
  {
   "cell_type": "code",
   "execution_count": 399,
   "metadata": {},
   "outputs": [
    {
     "data": {
      "text/plain": [
       "list"
      ]
     },
     "execution_count": 399,
     "metadata": {},
     "output_type": "execute_result"
    }
   ],
   "source": [
    "data = pd.read_html('https://www.fdic.gov/bank/individual/failed/banklist.html')\n",
    "type(data)"
   ]
  },
  {
   "cell_type": "code",
   "execution_count": 404,
   "metadata": {},
   "outputs": [
    {
     "data": {
      "text/plain": [
       "pandas.core.frame.DataFrame"
      ]
     },
     "execution_count": 404,
     "metadata": {},
     "output_type": "execute_result"
    }
   ],
   "source": [
    "df = data[0]\n",
    "type(df)"
   ]
  },
  {
   "cell_type": "markdown",
   "metadata": {},
   "source": [
    "### SQL\n",
    "* to_sql: name (of table), con (connection)\n",
    "* read_sql: sql (of table), con (connection)"
   ]
  },
  {
   "cell_type": "code",
   "execution_count": 407,
   "metadata": {},
   "outputs": [],
   "source": [
    "from sqlalchemy import create_engine\n",
    "engine  = create_engine('sqlite:///:memory:')"
   ]
  },
  {
   "cell_type": "code",
   "execution_count": 409,
   "metadata": {},
   "outputs": [],
   "source": [
    "df.to_sql(name = 'my_table', con = engine)"
   ]
  },
  {
   "cell_type": "code",
   "execution_count": 410,
   "metadata": {},
   "outputs": [],
   "source": [
    "sql_df = pd.read_sql(sql = 'my_table', con = engine)"
   ]
  },
  {
   "cell_type": "code",
   "execution_count": null,
   "metadata": {},
   "outputs": [],
   "source": []
  },
  {
   "cell_type": "code",
   "execution_count": null,
   "metadata": {},
   "outputs": [],
   "source": []
  }
 ],
 "metadata": {
  "kernelspec": {
   "display_name": "Python 3",
   "language": "python",
   "name": "python3"
  },
  "language_info": {
   "codemirror_mode": {
    "name": "ipython",
    "version": 3
   },
   "file_extension": ".py",
   "mimetype": "text/x-python",
   "name": "python",
   "nbconvert_exporter": "python",
   "pygments_lexer": "ipython3",
   "version": "3.7.4"
  }
 },
 "nbformat": 4,
 "nbformat_minor": 4
}
