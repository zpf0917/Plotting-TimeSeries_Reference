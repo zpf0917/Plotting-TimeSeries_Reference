{
 "cells": [
  {
   "cell_type": "code",
   "execution_count": 79,
   "metadata": {},
   "outputs": [],
   "source": [
    "import numpy as np\n",
    "import pandas as pd\n",
    "from numpy.random import randn\n",
    "np.random.seed(101)\n",
    "DATA_DIR = '/Users/nathanzhao/Desktop/Python_quant_finance' + \\\n",
    "        '/Python-for-Finance-Repo-master-master' + \\\n",
    "        '/08-Time-Series-Analysis' \n",
    "import matplotlib.pyplot as plt\n",
    "import seaborn as sns\n",
    "\n",
    "import statsmodels.api as sm\n",
    "from statsmodels.tsa.seasonal import seasonal_decompose\n",
    "\n",
    "from sklearn.linear_model import LinearRegression\n",
    "\n",
    "%matplotlib inline"
   ]
  },
  {
   "cell_type": "markdown",
   "metadata": {},
   "source": [
    "# Catalog\n",
    "1. Make sure all features stationary\n",
    "2. Use weighted regression!!!!"
   ]
  },
  {
   "cell_type": "code",
   "execution_count": null,
   "metadata": {},
   "outputs": [],
   "source": []
  },
  {
   "cell_type": "markdown",
   "metadata": {},
   "source": [
    "### Funcs"
   ]
  },
  {
   "cell_type": "code",
   "execution_count": 63,
   "metadata": {
    "jupyter": {
     "source_hidden": true
    }
   },
   "outputs": [],
   "source": [
    "def BINPLOT_VA1_parted_eq_by_VA2(\n",
    "        df, \n",
    "        num_q, \n",
    "        va1, \n",
    "        va2, \n",
    "        va2_is_index = False, \n",
    "\n",
    "        apply_float_precision = True,\n",
    "        precision_float = 2,\n",
    "    \n",
    "        whether_plot = True,\n",
    "        fig_size = (16,4),\n",
    "        show_x_ticks = True\n",
    "    ): \n",
    "    \"\"\"\n",
    "    Params:\n",
    "        【va2_is_index】 True:\n",
    "                Then 【va2】 is just a name of x axis\n",
    "        【apply_float_precision】 True: \n",
    "                Only when 【va2】 is float/int\n",
    "    Returns: \n",
    "        DataFrame of means, stds & counts\n",
    "    Note:\n",
    "        1. Require no repeating index, for time series index, \n",
    "            consider push repeating index by 1ns, repeat \n",
    "            until no repetition left.\n",
    "    \"\"\"\n",
    "    \n",
    "    # groupby / partition\n",
    "    if va2_is_index:\n",
    "        unstacked = df[va1].groupby(pd.qcut(df.index, q = num_q)).apply(pd.DataFrame)\n",
    "    else:\n",
    "        unstacked = df[va1].groupby(pd.qcut(df[va2], q = num_q)).apply(pd.DataFrame)\n",
    "    precision_str = \"{:.\" + str(precision_float) + \"f}\"\n",
    "    if apply_float_precision:\n",
    "        columns_interval_left = list(map(lambda x : precision_str.format(x.left), list(unstacked.columns)))\n",
    "    else :\n",
    "        columns_interval_left = list(map(lambda x : x.left, list(unstacked.columns)))\n",
    "        \n",
    "    # plot\n",
    "    if whether_plot:\n",
    "        ax = pd.DataFrame(unstacked.values).plot(kind='box',figsize = fig_size)\n",
    "        if show_x_ticks:\n",
    "            _ = ax.set_xticklabels(columns_interval_left)\n",
    "        _ = ax.set_xlabel(\"LEFT of {\" + va2 + \"}\")\n",
    "        _ = ax.set_ylabel(va1)\n",
    "    \n",
    "    # return\n",
    "    ls_means = list(unstacked.mean(axis = 0, skipna = True))\n",
    "    ls_stds = list(unstacked.std(axis = 0, skipna = True))\n",
    "    ls_counts =list((-1*(unstacked.isna()-1)).sum())\n",
    "    df_ret = pd.DataFrame(data = ([ls_means, ls_stds,ls_counts]),\n",
    "                          index = ['mean','std','count'],\n",
    "                          columns = columns_interval_left)\n",
    "    df_ret = df_ret.transpose()\n",
    "    df_ret.rename_axis(\"LEFT of {\" + va2 + \"}\", inplace = True)\n",
    "    return df_ret"
   ]
  },
  {
   "cell_type": "code",
   "execution_count": 84,
   "metadata": {},
   "outputs": [],
   "source": [
    "def R_Square(y_pred, y_true):\n",
    "    y_mean = y_true.mean()\n",
    "    SS_res = ((y_pred - y_true) ** 2).sum()\n",
    "    SS_tot = ((y_true - y_mean) ** 2).sum()\n",
    "    return 1 - SS_res / SS_tot"
   ]
  },
  {
   "cell_type": "markdown",
   "metadata": {},
   "source": [
    "### Prepare df"
   ]
  },
  {
   "cell_type": "code",
   "execution_count": 98,
   "metadata": {},
   "outputs": [],
   "source": [
    "df = pd.read_csv('data.csv')\n",
    "df.set_index ('timestamp', inplace = True)\n",
    "df['diff_10_y'] = (df['yprice'].shift(10) - df['yprice'])\n",
    "df['diff_20_y']= (df['yprice'].shift(20) - df['yprice'])\n",
    "df['diff_40_y'] = (df['yprice'].shift(40) - df['yprice'])\n",
    "df.dropna(inplace = True)\n",
    "df['diff_10_x'] = (df['xprice'].shift(10) - df['xprice'])\n",
    "df['diff_20_x']= (df['xprice'].shift(20) - df['xprice'])\n",
    "df['diff_40_x'] = (df['xprice'].shift(40) - df['xprice'])\n",
    "df.dropna(inplace = True)\n",
    "df['x_y_diff_ratio'] = df['diff_10_y'] / (df['diff_10_x'] + 0.0000001)"
   ]
  },
  {
   "cell_type": "markdown",
   "metadata": {},
   "source": [
    "### Collect std rolling, then shift forward"
   ]
  },
  {
   "cell_type": "code",
   "execution_count": 99,
   "metadata": {},
   "outputs": [],
   "source": [
    "df['roll_std'] = df['returns'].rolling(window = 31).std().shift(15)\n",
    "df.dropna(inplace = True)\n",
    "df['abs_returns'] = abs(df['returns'])"
   ]
  },
  {
   "cell_type": "code",
   "execution_count": 100,
   "metadata": {
    "collapsed": true,
    "jupyter": {
     "outputs_hidden": true,
     "source_hidden": true
    }
   },
   "outputs": [
    {
     "data": {
      "text/html": [
       "<div>\n",
       "<style scoped>\n",
       "    .dataframe tbody tr th:only-of-type {\n",
       "        vertical-align: middle;\n",
       "    }\n",
       "\n",
       "    .dataframe tbody tr th {\n",
       "        vertical-align: top;\n",
       "    }\n",
       "\n",
       "    .dataframe thead th {\n",
       "        text-align: right;\n",
       "    }\n",
       "</style>\n",
       "<table border=\"1\" class=\"dataframe\">\n",
       "  <thead>\n",
       "    <tr style=\"text-align: right;\">\n",
       "      <th></th>\n",
       "      <th>mean</th>\n",
       "      <th>std</th>\n",
       "      <th>count</th>\n",
       "    </tr>\n",
       "    <tr>\n",
       "      <th>LEFT of {roll_std}</th>\n",
       "      <th></th>\n",
       "      <th></th>\n",
       "      <th></th>\n",
       "    </tr>\n",
       "  </thead>\n",
       "  <tbody>\n",
       "    <tr>\n",
       "      <td>-0.00</td>\n",
       "      <td>0.063189</td>\n",
       "      <td>0.069939</td>\n",
       "      <td>68501.0</td>\n",
       "    </tr>\n",
       "    <tr>\n",
       "      <td>0.03</td>\n",
       "      <td>0.086116</td>\n",
       "      <td>0.079110</td>\n",
       "      <td>68501.0</td>\n",
       "    </tr>\n",
       "    <tr>\n",
       "      <td>0.04</td>\n",
       "      <td>0.107398</td>\n",
       "      <td>0.095510</td>\n",
       "      <td>68501.0</td>\n",
       "    </tr>\n",
       "    <tr>\n",
       "      <td>0.06</td>\n",
       "      <td>0.132169</td>\n",
       "      <td>0.115103</td>\n",
       "      <td>68501.0</td>\n",
       "    </tr>\n",
       "    <tr>\n",
       "      <td>0.08</td>\n",
       "      <td>0.201560</td>\n",
       "      <td>0.169649</td>\n",
       "      <td>68501.0</td>\n",
       "    </tr>\n",
       "  </tbody>\n",
       "</table>\n",
       "</div>"
      ],
      "text/plain": [
       "                        mean       std    count\n",
       "LEFT of {roll_std}                             \n",
       "-0.00               0.063189  0.069939  68501.0\n",
       "0.03                0.086116  0.079110  68501.0\n",
       "0.04                0.107398  0.095510  68501.0\n",
       "0.06                0.132169  0.115103  68501.0\n",
       "0.08                0.201560  0.169649  68501.0"
      ]
     },
     "execution_count": 100,
     "metadata": {},
     "output_type": "execute_result"
    },
    {
     "data": {
      "image/png": "[encoded data removed]",
      "text/plain": [
       "<Figure size 1152x288 with 1 Axes>"
      ]
     },
     "metadata": {
      "needs_background": "light"
     },
     "output_type": "display_data"
    }
   ],
   "source": [
    "BINPLOT_VA1_parted_eq_by_VA2(\n",
    "        df = df, \n",
    "        num_q = 5, \n",
    "        va1 = 'abs_returns', \n",
    "        va2 = 'roll_std', \n",
    "        va2_is_index = False, \n",
    "\n",
    "        apply_float_precision = True,\n",
    "        precision_float = 2,\n",
    "    \n",
    "        whether_plot = True,\n",
    "        fig_size = (16,4),\n",
    "        show_x_ticks = True\n",
    "    )"
   ]
  },
  {
   "cell_type": "markdown",
   "metadata": {},
   "source": [
    "### Train Test Split"
   ]
  },
  {
   "cell_type": "code",
   "execution_count": 101,
   "metadata": {},
   "outputs": [],
   "source": [
    "train_df = df.iloc[:200000]\n",
    "test_df = df.iloc[-100000:]\n",
    "train_df = train_df.iloc[:160000]\n",
    "valid_df = train_df.iloc[-40000:]"
   ]
  },
  {
   "cell_type": "code",
   "execution_count": 102,
   "metadata": {},
   "outputs": [
    {
     "data": {
      "text/plain": [
       "(160000, 12)"
      ]
     },
     "execution_count": 102,
     "metadata": {},
     "output_type": "execute_result"
    }
   ],
   "source": [
    "train_df.shape"
   ]
  },
  {
   "cell_type": "markdown",
   "metadata": {},
   "source": [
    "# Regression"
   ]
  },
  {
   "cell_type": "code",
   "execution_count": 103,
   "metadata": {},
   "outputs": [],
   "source": [
    "INDEX = [\n",
    "    'diff_10_x',\n",
    "    'diff_20_x', \n",
    "    'diff_40_x',\n",
    "    'diff_10_y', \n",
    "    'diff_20_y', \n",
    "    'diff_40_y',\n",
    "    'x_y_diff_ratio'\n",
    "]\n",
    "\n",
    "X       = train_df [INDEX]\n",
    "y       = train_df ['returns']\n",
    "X_valid = valid_df [INDEX]\n",
    "y_valid = valid_df ['returns']\n",
    "X_test  = test_df  [INDEX]\n",
    "y_test  = test_df  ['returns']\n"
   ]
  },
  {
   "cell_type": "code",
   "execution_count": 104,
   "metadata": {},
   "outputs": [],
   "source": [
    "reg = LinearRegression()"
   ]
  },
  {
   "cell_type": "code",
   "execution_count": 120,
   "metadata": {},
   "outputs": [
    {
     "name": "stdout",
     "output_type": "stream",
     "text": [
      "0.003252866646619945\n",
      "-0.00043592366573941277\n"
     ]
    }
   ],
   "source": [
    "def run_reg(algo):\n",
    "    algo.fit(X, y, 1/(train_df['roll_std']+1) )\n",
    "    algo.fit(X,y)\n",
    "    print(R_Square(algo.predict(X), y))\n",
    "    print(R_Square(algo.predict(X_valid), y_valid))\n",
    "#     print(R_Square(algo.predict(X_test), y_test))\n",
    "run_reg(reg)"
   ]
  },
  {
   "cell_type": "code",
   "execution_count": null,
   "metadata": {},
   "outputs": [],
   "source": []
  },
  {
   "cell_type": "code",
   "execution_count": null,
   "metadata": {},
   "outputs": [],
   "source": []
  }
 ],
 "metadata": {
  "kernelspec": {
   "display_name": "Python 3",
   "language": "python",
   "name": "python3"
  },
  "language_info": {
   "codemirror_mode": {
    "name": "ipython",
    "version": 3
   },
   "file_extension": ".py",
   "mimetype": "text/x-python",
   "name": "python",
   "nbconvert_exporter": "python",
   "pygments_lexer": "ipython3",
   "version": "3.7.4"
  }
 },
 "nbformat": 4,
 "nbformat_minor": 4
}
