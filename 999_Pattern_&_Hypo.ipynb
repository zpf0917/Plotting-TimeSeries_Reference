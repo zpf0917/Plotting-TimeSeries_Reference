{
 "cells": [
  {
   "cell_type": "markdown",
   "metadata": {},
   "source": [
    "# PATTERN & HYPO tools\n"
   ]
  },
  {
   "cell_type": "code",
   "execution_count": 186,
   "metadata": {},
   "outputs": [],
   "source": [
    "import numpy as np\n",
    "import pandas as pd\n",
    "from numpy.random import randn\n",
    "np.random.seed(101)\n",
    "DATA_DIR = '/Users/nathanzhao/Desktop/Python_quant_finance' + \\\n",
    "        '/Python-for-Finance-Repo-master-master' + \\\n",
    "        '/08-Time-Series-Analysis' \n",
    "import matplotlib.pyplot as plt\n",
    "import seaborn as sns\n",
    "\n",
    "import statsmodels.api as sm\n",
    "from statsmodels.tsa.seasonal import seasonal_decompose\n",
    "\n",
    "%matplotlib inline"
   ]
  },
  {
   "cell_type": "code",
   "execution_count": 187,
   "metadata": {},
   "outputs": [],
   "source": [
    "df = sm.datasets.macrodata.load_pandas().data\n",
    "index = pd.Index(sm.tsa.datetools.dates_from_range  ('1959Q1','2009Q3'))\n",
    "df.index = index"
   ]
  },
  {
   "cell_type": "markdown",
   "metadata": {},
   "source": [
    "# Pattern:\n",
    "* ### Binplots VA1, w/ DF partitioned by VA2\n",
    "* ### Binplots VA1, w/ DF partitioned by list of pairs of bounds ofg VA2 (ONLY FOR int, float, datetime)\n",
    "* ### TODO: Binplot by categorical variable (all OR selected subset among all)\n",
    "\n",
    "# Hypo:\n",
    "* ### TODO: two group mean test, MIX with Binplot 1\n",
    "* ### TODO: linear regression test, related to Binplot 1\n",
    "\n",
    "# TODO: \n",
    "* look at the python hypo test post on right side, cross check with my theory notes.\n",
    "* come up with more, useful patterns & hypo funcs"
   ]
  },
  {
   "cell_type": "markdown",
   "metadata": {},
   "source": [
    "================================================\n",
    "================================================"
   ]
  },
  {
   "cell_type": "markdown",
   "metadata": {},
   "source": [
    "# Binplots VA1, w/ DF partitioned by VA2"
   ]
  },
  {
   "cell_type": "code",
   "execution_count": 259,
   "metadata": {},
   "outputs": [],
   "source": [
    "def BINPLOT_VA1_parted_eq_by_VA2(\n",
    "        df, \n",
    "        num_q, \n",
    "        va1, \n",
    "        va2, \n",
    "        va2_is_index = False, \n",
    "\n",
    "        apply_float_precision = True,\n",
    "        precision_float = 2,\n",
    "    \n",
    "        whether_plot = True,\n",
    "        fig_size = (16,4),\n",
    "        show_x_ticks = True\n",
    "    ): \n",
    "    \"\"\"\n",
    "    Params:\n",
    "        【va2_is_index】 True:\n",
    "                Then 【va2】 is just a name of x axis\n",
    "        【apply_float_precision】 True: \n",
    "                Only when 【va2】 is float/int\n",
    "    Returns: \n",
    "        DataFrame of means & stds\n",
    "    Note:\n",
    "        Require no repeating index, for time series index, \n",
    "            consider push repeating index by 1ns, repeat \n",
    "            until no repetition left.\n",
    "            \n",
    "    TODO:  Implement smart remove of repeat index\n",
    "    \"\"\"\n",
    "    # partition\n",
    "    if va2_is_index:\n",
    "        unstacked = df[va1].groupby(pd.qcut(df.index, q = num_q)).apply(pd.DataFrame)\n",
    "    else:\n",
    "        unstacked = df[va1].groupby(pd.qcut(df[va2], q = num_q)).apply(pd.DataFrame)\n",
    "    precision_str = \"{:.\" + str(precision_float) + \"f}\"\n",
    "    if apply_float_precision:\n",
    "        columns_interval_left = list(map(lambda x : precision_str.format(x.left), list(unstacked.columns)))\n",
    "    else :\n",
    "        columns_interval_left = list(map(lambda x : x.left, list(unstacked.columns)))\n",
    "        \n",
    "    # plot\n",
    "    if whether_plot:\n",
    "        ax = pd.DataFrame(unstacked.values).plot(kind='box',figsize = fig_size)\n",
    "        if show_x_ticks:\n",
    "            _ = ax.set_xticklabels(columns_interval_left)\n",
    "        _ = ax.set_xlabel(\"LEFT of {\" + va2 + \"}\")\n",
    "        _ = ax.set_ylabel(va1)\n",
    "    \n",
    "    # return\n",
    "    ls_means = list(unstacked.mean(axis = 0, skipna = True))\n",
    "    ls_stds = list(unstacked.std(axis = 0, skipna = True))\n",
    "    df_ret = pd.DataFrame(data = ([ls_means, ls_stds]),\n",
    "                          index = ['mean','std'],\n",
    "                          columns = columns_interval_left)\n",
    "    df_ret = df_ret.transpose()\n",
    "    df_ret.rename_axis(\"LEFT of {\" + va2 + \"}\", inplace = True)\n",
    "    return df_ret"
   ]
  },
  {
   "cell_type": "code",
   "execution_count": 262,
   "metadata": {},
   "outputs": [
    {
     "data": {
      "text/html": [
       "<div>\n",
       "<style scoped>\n",
       "    .dataframe tbody tr th:only-of-type {\n",
       "        vertical-align: middle;\n",
       "    }\n",
       "\n",
       "    .dataframe tbody tr th {\n",
       "        vertical-align: top;\n",
       "    }\n",
       "\n",
       "    .dataframe thead th {\n",
       "        text-align: right;\n",
       "    }\n",
       "</style>\n",
       "<table border=\"1\" class=\"dataframe\">\n",
       "  <thead>\n",
       "    <tr style=\"text-align: right;\">\n",
       "      <th></th>\n",
       "      <th>mean</th>\n",
       "      <th>std</th>\n",
       "    </tr>\n",
       "    <tr>\n",
       "      <th>LEFT of {realinv}</th>\n",
       "      <th></th>\n",
       "      <th></th>\n",
       "    </tr>\n",
       "  </thead>\n",
       "  <tbody>\n",
       "    <tr>\n",
       "      <td>259.76</td>\n",
       "      <td>4542.966559</td>\n",
       "      <td>1171.174336</td>\n",
       "    </tr>\n",
       "    <tr>\n",
       "      <td>896.21</td>\n",
       "      <td>9925.894129</td>\n",
       "      <td>2188.223177</td>\n",
       "    </tr>\n",
       "  </tbody>\n",
       "</table>\n",
       "</div>"
      ],
      "text/plain": [
       "                          mean          std\n",
       "LEFT of {realinv}                          \n",
       "259.76             4542.966559  1171.174336\n",
       "896.21             9925.894129  2188.223177"
      ]
     },
     "execution_count": 262,
     "metadata": {},
     "output_type": "execute_result"
    },
    {
     "data": {
      "image/png": "[encoded data removed]",
      "text/plain": [
       "<Figure size 720x144 with 1 Axes>"
      ]
     },
     "metadata": {
      "needs_background": "light"
     },
     "output_type": "display_data"
    }
   ],
   "source": [
    "BINPLOT_VA1_parted_eq_by_VA2(\n",
    "    df= df, \n",
    "    va1=  'realgdp', \n",
    "    va2 = 'realinv', \n",
    "    num_q =2, \n",
    "    va2_is_index = False, \n",
    "    apply_float_precision = True,\n",
    "    precision_float = 2,\n",
    "    fig_size = (10,2), \n",
    "    show_x_ticks = True\n",
    ")"
   ]
  },
  {
   "cell_type": "markdown",
   "metadata": {},
   "source": [
    "# Binplots VA1, w/ DF partitioned by list of pairs of bounds ofg VA2 \n",
    "* (ONLY FOR int, float, datetime)"
   ]
  },
  {
   "cell_type": "code",
   "execution_count": null,
   "metadata": {},
   "outputs": [],
   "source": [
    "def BINPLOT_VA1_parted_by_list_of_pairs_of_VA2(\n",
    "        df, \n",
    "        va1, \n",
    "        va2, \n",
    "        ls,\n",
    "        va2_is_index = False, \n",
    "\n",
    "        apply_float_precision = True,\n",
    "        precision_x_axis = 2,\n",
    "        fig_size = (16,4),\n",
    "        show_x_ticks = True\n",
    "    ): \n",
    "    UNIQUE_ID_COL = 'unique_group_identifier_to_be_deleted_by_nathan_3434344' \n",
    "    df[UNIQUE_ID_COL] = -1\n",
    "    \n",
    "    \n",
    "    \n",
    "    \n",
    "    \n",
    "    df.drop(UNIQUE_ID_COL, axis = 1)"
   ]
  },
  {
   "cell_type": "code",
   "execution_count": 193,
   "metadata": {},
   "outputs": [
    {
     "data": {
      "text/plain": [
       "True"
      ]
     },
     "execution_count": 193,
     "metadata": {},
     "output_type": "execute_result"
    }
   ],
   "source": [
    "pd.to_datetime(\"20190102\") > pd.to_datetime(\"20190101\")"
   ]
  },
  {
   "cell_type": "code",
   "execution_count": null,
   "metadata": {},
   "outputs": [],
   "source": []
  },
  {
   "cell_type": "code",
   "execution_count": null,
   "metadata": {},
   "outputs": [],
   "source": []
  },
  {
   "cell_type": "code",
   "execution_count": null,
   "metadata": {},
   "outputs": [],
   "source": []
  },
  {
   "cell_type": "code",
   "execution_count": null,
   "metadata": {},
   "outputs": [],
   "source": []
  },
  {
   "cell_type": "code",
   "execution_count": null,
   "metadata": {},
   "outputs": [],
   "source": []
  },
  {
   "cell_type": "code",
   "execution_count": null,
   "metadata": {},
   "outputs": [],
   "source": []
  },
  {
   "cell_type": "code",
   "execution_count": null,
   "metadata": {},
   "outputs": [],
   "source": []
  },
  {
   "cell_type": "code",
   "execution_count": null,
   "metadata": {},
   "outputs": [],
   "source": []
  },
  {
   "cell_type": "code",
   "execution_count": null,
   "metadata": {},
   "outputs": [],
   "source": []
  },
  {
   "cell_type": "code",
   "execution_count": null,
   "metadata": {},
   "outputs": [],
   "source": []
  },
  {
   "cell_type": "code",
   "execution_count": null,
   "metadata": {},
   "outputs": [],
   "source": []
  },
  {
   "cell_type": "code",
   "execution_count": null,
   "metadata": {},
   "outputs": [],
   "source": []
  },
  {
   "cell_type": "code",
   "execution_count": null,
   "metadata": {},
   "outputs": [],
   "source": []
  },
  {
   "cell_type": "code",
   "execution_count": null,
   "metadata": {},
   "outputs": [],
   "source": []
  },
  {
   "cell_type": "code",
   "execution_count": 204,
   "metadata": {},
   "outputs": [],
   "source": [
    "ls_means = df.mean(axis = 0, skipna = True) "
   ]
  },
  {
   "cell_type": "code",
   "execution_count": 205,
   "metadata": {},
   "outputs": [
    {
     "data": {
      "text/plain": [
       "year        1983.876847\n",
       "quarter        2.492611\n",
       "realgdp     7221.171901\n",
       "realcons    4825.293103\n",
       "realinv     1012.863862\n",
       "realgovt     663.328640\n",
       "realdpi     5310.540887\n",
       "cpi          105.075788\n",
       "m1           667.927586\n",
       "tbilrate       5.311773\n",
       "unemp          5.884729\n",
       "pop          239.724153\n",
       "infl           3.961330\n",
       "realint        1.336502\n",
       "dtype: float64"
      ]
     },
     "execution_count": 205,
     "metadata": {},
     "output_type": "execute_result"
    }
   ],
   "source": [
    "ls_means "
   ]
  },
  {
   "cell_type": "code",
   "execution_count": null,
   "metadata": {},
   "outputs": [],
   "source": []
  }
 ],
 "metadata": {
  "kernelspec": {
   "display_name": "Python 3",
   "language": "python",
   "name": "python3"
  },
  "language_info": {
   "codemirror_mode": {
    "name": "ipython",
    "version": 3
   },
   "file_extension": ".py",
   "mimetype": "text/x-python",
   "name": "python",
   "nbconvert_exporter": "python",
   "pygments_lexer": "ipython3",
   "version": "3.7.4"
  }
 },
 "nbformat": 4,
 "nbformat_minor": 4
}
