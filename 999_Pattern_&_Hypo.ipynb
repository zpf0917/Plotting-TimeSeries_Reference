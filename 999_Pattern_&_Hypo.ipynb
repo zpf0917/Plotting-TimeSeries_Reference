{
 "cells": [
  {
   "cell_type": "markdown",
   "metadata": {},
   "source": [
    "# PATTERN & HYPO tools\n"
   ]
  },
  {
   "cell_type": "code",
   "execution_count": 186,
   "metadata": {},
   "outputs": [],
   "source": [
    "import numpy as np\n",
    "import pandas as pd\n",
    "from numpy.random import randn\n",
    "np.random.seed(101)\n",
    "DATA_DIR = '/Users/nathanzhao/Desktop/Python_quant_finance' + \\\n",
    "        '/Python-for-Finance-Repo-master-master' + \\\n",
    "        '/08-Time-Series-Analysis' \n",
    "import matplotlib.pyplot as plt\n",
    "import seaborn as sns\n",
    "\n",
    "import statsmodels.api as sm\n",
    "from statsmodels.tsa.seasonal import seasonal_decompose\n",
    "\n",
    "%matplotlib inline"
   ]
  },
  {
   "cell_type": "code",
   "execution_count": 187,
   "metadata": {},
   "outputs": [],
   "source": [
    "df = sm.datasets.macrodata.load_pandas().data\n",
    "index = pd.Index(sm.tsa.datetools.dates_from_range  ('1959Q1','2009Q3'))\n",
    "df.index = index"
   ]
  },
  {
   "cell_type": "markdown",
   "metadata": {},
   "source": [
    "# Pattern:\n",
    "* ### Binplots VA1, w/ DF partitioned by qcut value of VA2\n",
    "* ### Binplots VA1, w/ DF partitioned by list of pairs of bounds ofg VA2 (ONLY FOR int, float, datetime)\n",
    "* ### Binplots VA1, w/ DF partitioned by categorical VA2\n",
    "\n",
    "# Hypo:\n",
    "* ### TODO: two group mean test, MIX with Binplot 1\n",
    "* ### TODO: linear regression test, related to Binplot 1\n",
    "\n",
    "# TODO: \n",
    "* look at the python hypo test post on right side, cross check with my theory notes.\n",
    "* come up with more, useful patterns & hypo funcs"
   ]
  },
  {
   "cell_type": "markdown",
   "metadata": {},
   "source": [
    "================================================\n",
    "================================================"
   ]
  },
  {
   "cell_type": "markdown",
   "metadata": {},
   "source": [
    "# Binplots VA1, w/ DF partitioned by qcut value of VA2"
   ]
  },
  {
   "cell_type": "code",
   "execution_count": 427,
   "metadata": {},
   "outputs": [],
   "source": [
    "def BINPLOT_VA1_parted_eq_by_VA2(\n",
    "        df, \n",
    "        num_q, \n",
    "        va1, \n",
    "        va2, \n",
    "        va2_is_index = False, \n",
    "\n",
    "        apply_float_precision = True,\n",
    "        precision_float = 2,\n",
    "    \n",
    "        whether_plot = True,\n",
    "        fig_size = (16,4),\n",
    "        show_x_ticks = True\n",
    "    ): \n",
    "    \"\"\"\n",
    "    Params:\n",
    "        【va2_is_index】 True:\n",
    "                Then 【va2】 is just a name of x axis\n",
    "        【apply_float_precision】 True: \n",
    "                Only when 【va2】 is float/int\n",
    "    Returns: \n",
    "        DataFrame of means, stds & counts\n",
    "    Note:\n",
    "        1. Require no repeating index, for time series index, \n",
    "            consider push repeating index by 1ns, repeat \n",
    "            until no repetition left.\n",
    "    \"\"\"\n",
    "    \n",
    "    # groupby / partition\n",
    "    if va2_is_index:\n",
    "        unstacked = df[va1].groupby(pd.qcut(df.index, q = num_q)).apply(pd.DataFrame)\n",
    "    else:\n",
    "        unstacked = df[va1].groupby(pd.qcut(df[va2], q = num_q)).apply(pd.DataFrame)\n",
    "    precision_str = \"{:.\" + str(precision_float) + \"f}\"\n",
    "    if apply_float_precision:\n",
    "        columns_interval_left = list(map(lambda x : precision_str.format(x.left), list(unstacked.columns)))\n",
    "    else :\n",
    "        columns_interval_left = list(map(lambda x : x.left, list(unstacked.columns)))\n",
    "        \n",
    "    # plot\n",
    "    if whether_plot:\n",
    "        ax = pd.DataFrame(unstacked.values).plot(kind='box',figsize = fig_size)\n",
    "        if show_x_ticks:\n",
    "            _ = ax.set_xticklabels(columns_interval_left)\n",
    "        _ = ax.set_xlabel(\"LEFT of {\" + va2 + \"}\")\n",
    "        _ = ax.set_ylabel(va1)\n",
    "    \n",
    "    # return\n",
    "    ls_means = list(unstacked.mean(axis = 0, skipna = True))\n",
    "    ls_stds = list(unstacked.std(axis = 0, skipna = True))\n",
    "    ls_counts =list((-1*(unstacked.isna()-1)).sum())\n",
    "    df_ret = pd.DataFrame(data = ([ls_means, ls_stds,ls_counts]),\n",
    "                          index = ['mean','std','count'],\n",
    "                          columns = columns_interval_left)\n",
    "    df_ret = df_ret.transpose()\n",
    "    df_ret.rename_axis(\"LEFT of {\" + va2 + \"}\", inplace = True)\n",
    "    return df_ret"
   ]
  },
  {
   "cell_type": "code",
   "execution_count": 451,
   "metadata": {},
   "outputs": [
    {
     "data": {
      "text/html": [
       "<div>\n",
       "<style scoped>\n",
       "    .dataframe tbody tr th:only-of-type {\n",
       "        vertical-align: middle;\n",
       "    }\n",
       "\n",
       "    .dataframe tbody tr th {\n",
       "        vertical-align: top;\n",
       "    }\n",
       "\n",
       "    .dataframe thead th {\n",
       "        text-align: right;\n",
       "    }\n",
       "</style>\n",
       "<table border=\"1\" class=\"dataframe\">\n",
       "  <thead>\n",
       "    <tr style=\"text-align: right;\">\n",
       "      <th></th>\n",
       "      <th>mean</th>\n",
       "      <th>std</th>\n",
       "      <th>count</th>\n",
       "    </tr>\n",
       "    <tr>\n",
       "      <th>LEFT of {realinv}</th>\n",
       "      <th></th>\n",
       "      <th></th>\n",
       "      <th></th>\n",
       "    </tr>\n",
       "  </thead>\n",
       "  <tbody>\n",
       "    <tr>\n",
       "      <td>259.76</td>\n",
       "      <td>3598.636078</td>\n",
       "      <td>621.764182</td>\n",
       "      <td>51.0</td>\n",
       "    </tr>\n",
       "    <tr>\n",
       "      <td>519.15</td>\n",
       "      <td>5487.297039</td>\n",
       "      <td>751.631841</td>\n",
       "      <td>51.0</td>\n",
       "    </tr>\n",
       "    <tr>\n",
       "      <td>896.21</td>\n",
       "      <td>7967.627860</td>\n",
       "      <td>869.256831</td>\n",
       "      <td>50.0</td>\n",
       "    </tr>\n",
       "    <tr>\n",
       "      <td>1436.68</td>\n",
       "      <td>11845.763020</td>\n",
       "      <td>1114.327056</td>\n",
       "      <td>51.0</td>\n",
       "    </tr>\n",
       "  </tbody>\n",
       "</table>\n",
       "</div>"
      ],
      "text/plain": [
       "                           mean          std  count\n",
       "LEFT of {realinv}                                  \n",
       "259.76              3598.636078   621.764182   51.0\n",
       "519.15              5487.297039   751.631841   51.0\n",
       "896.21              7967.627860   869.256831   50.0\n",
       "1436.68            11845.763020  1114.327056   51.0"
      ]
     },
     "execution_count": 451,
     "metadata": {},
     "output_type": "execute_result"
    },
    {
     "data": {
      "image/png": "[encoded data removed]",
      "text/plain": [
       "<Figure size 576x108 with 1 Axes>"
      ]
     },
     "metadata": {
      "needs_background": "light"
     },
     "output_type": "display_data"
    }
   ],
   "source": [
    "BINPLOT_VA1_parted_eq_by_VA2(\n",
    "    df= df, \n",
    "    va1=  'realgdp', \n",
    "    va2 = 'realinv', \n",
    "    num_q =4, \n",
    "    va2_is_index = False, \n",
    "    apply_float_precision = True,\n",
    "    precision_float = 2,\n",
    "    fig_size = (8,1.5), \n",
    "    show_x_ticks = True\n",
    ")"
   ]
  },
  {
   "cell_type": "markdown",
   "metadata": {},
   "source": [
    "# Binplots VA1, w/ DF partitioned by list of pairs of bounds ofg VA2 \n",
    "* (ONLY FOR int, float, datetime)"
   ]
  },
  {
   "cell_type": "code",
   "execution_count": 429,
   "metadata": {},
   "outputs": [],
   "source": [
    "def BINPLOT_VA1_parted_by_list_of_pairs_of_VA2(\n",
    "        df, \n",
    "        va1, \n",
    "        va2, \n",
    "        ls,\n",
    "        va2_is_index = False, \n",
    "\n",
    "        whether_plot = True,\n",
    "        fig_size = (16,4),\n",
    "        show_x_ticks = True\n",
    "    ): \n",
    "    \"\"\"\n",
    "    Params:\n",
    "        【va2_is_index】 True:\n",
    "                Then 【va2】 is just a name of x axis\n",
    "    Returns: \n",
    "        DataFrame of means, stds & counts\n",
    "    Note:\n",
    "        1. Check no overlapping region! Region is LEFT <= x < RIGHT\n",
    "        2. Require no repeating index, for time series index, \n",
    "            consider push repeating index by 1ns, repeat \n",
    "            until no repetition left.\n",
    "    \"\"\"\n",
    "    \n",
    "    # setup\n",
    "    UNIQUE_ID_COL = 'unique_group_identifier_to_be_deleted_by_nathan_3434344' \n",
    "    UNIQUE_VA2_INDEX_COL = 'unique_va2_index_to_be_deleted_by_nathan_3434344' \n",
    "    STORE_va2 = va2\n",
    "    if va2_is_index:\n",
    "        va2 = UNIQUE_VA2_INDEX_COL\n",
    "        df[va2] = df.index\n",
    "    \n",
    "    # groupby / partition\n",
    "    df[UNIQUE_ID_COL] = -1\n",
    "    counter = 0\n",
    "    for pair in ls:\n",
    "        left, right = pair[0], pair[1]\n",
    "        if (left != None and right != None): df.loc[(left <= df[va2]) & (df[va2] < right), UNIQUE_ID_COL] = counter\n",
    "        elif (left == None): df.loc[(df[va2] < right), UNIQUE_ID_COL] = counter\n",
    "        elif (right == None): df.loc[(left <= df[va2]), UNIQUE_ID_COL] = counter\n",
    "        else : df[UNIQUE_ID_COL] = counter\n",
    "        counter += 1\n",
    "    df_temp = df[df[UNIQUE_ID_COL] != -1]\n",
    "    unstacked = df_temp.groupby(UNIQUE_ID_COL).apply(lambda x: x[va1]).unstack(level = 0)\n",
    "\n",
    "    # plot\n",
    "    if whether_plot:\n",
    "        ax = unstacked.plot(kind='box',figsize = fig_size)\n",
    "        if show_x_ticks:\n",
    "            _ = ax.set_xticklabels(unstacked.columns)\n",
    "        _ = ax.set_xlabel(\"RANGE of {\" + STORE_va2 + \"}\")\n",
    "        _ = ax.set_ylabel(va1)\n",
    "    \n",
    "    # restore original df\n",
    "    df.drop(UNIQUE_ID_COL, axis = 1, inplace = True)\n",
    "    if va2_is_index: \n",
    "        df.drop(UNIQUE_VA2_INDEX_COL, axis = 1, inplace = True)\n",
    "    \n",
    "    # return\n",
    "    ls_means = list(unstacked.mean(axis = 0, skipna = True))\n",
    "    ls_stds = list(unstacked.std(axis = 0, skipna = True))\n",
    "    ls_counts =list((-1*(unstacked.isna()-1)).sum())\n",
    "    columns_ls = list(map(lambda x: \"[\" + str(x[0]) +\", \" + str(x[1]) + \")\", ls))\n",
    "    df_ret = pd.DataFrame(data = ([ls_means, ls_stds,ls_counts]),\n",
    "                          index = ['mean','std','count'],\n",
    "                          columns = columns_ls)\n",
    "    df_ret = df_ret.transpose()\n",
    "    df_ret.rename_axis(\"RANGE of {\" + STORE_va2 + \"}\", inplace = True)\n",
    "    return df_ret\n",
    "    "
   ]
  },
  {
   "cell_type": "code",
   "execution_count": 444,
   "metadata": {},
   "outputs": [
    {
     "data": {
      "text/html": [
       "<div>\n",
       "<style scoped>\n",
       "    .dataframe tbody tr th:only-of-type {\n",
       "        vertical-align: middle;\n",
       "    }\n",
       "\n",
       "    .dataframe tbody tr th {\n",
       "        vertical-align: top;\n",
       "    }\n",
       "\n",
       "    .dataframe thead th {\n",
       "        text-align: right;\n",
       "    }\n",
       "</style>\n",
       "<table border=\"1\" class=\"dataframe\">\n",
       "  <thead>\n",
       "    <tr style=\"text-align: right;\">\n",
       "      <th></th>\n",
       "      <th>mean</th>\n",
       "      <th>std</th>\n",
       "      <th>count</th>\n",
       "    </tr>\n",
       "    <tr>\n",
       "      <th>RANGE of {realgdp}</th>\n",
       "      <th></th>\n",
       "      <th></th>\n",
       "      <th></th>\n",
       "    </tr>\n",
       "  </thead>\n",
       "  <tbody>\n",
       "    <tr>\n",
       "      <td>[None, 3500)</td>\n",
       "      <td>326.236125</td>\n",
       "      <td>37.531303</td>\n",
       "      <td>24.0</td>\n",
       "    </tr>\n",
       "    <tr>\n",
       "      <td>[4000, 5000)</td>\n",
       "      <td>545.400063</td>\n",
       "      <td>66.429073</td>\n",
       "      <td>32.0</td>\n",
       "    </tr>\n",
       "    <tr>\n",
       "      <td>[5500, 7000)</td>\n",
       "      <td>801.296742</td>\n",
       "      <td>103.324933</td>\n",
       "      <td>31.0</td>\n",
       "    </tr>\n",
       "    <tr>\n",
       "      <td>[7500, 9000)</td>\n",
       "      <td>1022.572500</td>\n",
       "      <td>86.736666</td>\n",
       "      <td>26.0</td>\n",
       "    </tr>\n",
       "  </tbody>\n",
       "</table>\n",
       "</div>"
      ],
      "text/plain": [
       "                           mean         std  count\n",
       "RANGE of {realgdp}                                \n",
       "[None, 3500)         326.236125   37.531303   24.0\n",
       "[4000, 5000)         545.400063   66.429073   32.0\n",
       "[5500, 7000)         801.296742  103.324933   31.0\n",
       "[7500, 9000)        1022.572500   86.736666   26.0"
      ]
     },
     "execution_count": 444,
     "metadata": {},
     "output_type": "execute_result"
    },
    {
     "data": {
      "image/png": "[encoded data removed]",
      "text/plain": [
       "<Figure size 576x108 with 1 Axes>"
      ]
     },
     "metadata": {
      "needs_background": "light"
     },
     "output_type": "display_data"
    }
   ],
   "source": [
    "BINPLOT_VA1_parted_by_list_of_pairs_of_VA2(\n",
    "    df, \n",
    "    'realinv', \n",
    "    'realgdp', \n",
    "    [[None,3500], [4000,5000], [5500,7000], [7500, 9000]],\n",
    "    fig_size = (8,1.5)\n",
    ")"
   ]
  },
  {
   "cell_type": "code",
   "execution_count": 445,
   "metadata": {},
   "outputs": [
    {
     "data": {
      "text/html": [
       "<div>\n",
       "<style scoped>\n",
       "    .dataframe tbody tr th:only-of-type {\n",
       "        vertical-align: middle;\n",
       "    }\n",
       "\n",
       "    .dataframe tbody tr th {\n",
       "        vertical-align: top;\n",
       "    }\n",
       "\n",
       "    .dataframe thead th {\n",
       "        text-align: right;\n",
       "    }\n",
       "</style>\n",
       "<table border=\"1\" class=\"dataframe\">\n",
       "  <thead>\n",
       "    <tr style=\"text-align: right;\">\n",
       "      <th></th>\n",
       "      <th>mean</th>\n",
       "      <th>std</th>\n",
       "      <th>count</th>\n",
       "    </tr>\n",
       "    <tr>\n",
       "      <th>RANGE of {time}</th>\n",
       "      <th></th>\n",
       "      <th></th>\n",
       "      <th></th>\n",
       "    </tr>\n",
       "  </thead>\n",
       "  <tbody>\n",
       "    <tr>\n",
       "      <td>[1970-01-01 00:00:00, 1975-01-01 00:00:00)</td>\n",
       "      <td>574.027100</td>\n",
       "      <td>68.399385</td>\n",
       "      <td>20.0</td>\n",
       "    </tr>\n",
       "    <tr>\n",
       "      <td>[1976-01-01 00:00:00, 1980-01-01 00:00:00)</td>\n",
       "      <td>722.827812</td>\n",
       "      <td>85.361800</td>\n",
       "      <td>16.0</td>\n",
       "    </tr>\n",
       "  </tbody>\n",
       "</table>\n",
       "</div>"
      ],
      "text/plain": [
       "                                                  mean        std  count\n",
       "RANGE of {time}                                                         \n",
       "[1970-01-01 00:00:00, 1975-01-01 00:00:00)  574.027100  68.399385   20.0\n",
       "[1976-01-01 00:00:00, 1980-01-01 00:00:00)  722.827812  85.361800   16.0"
      ]
     },
     "execution_count": 445,
     "metadata": {},
     "output_type": "execute_result"
    },
    {
     "data": {
      "image/png": "[encoded data removed]",
      "text/plain": [
       "<Figure size 576x108 with 1 Axes>"
      ]
     },
     "metadata": {
      "needs_background": "light"
     },
     "output_type": "display_data"
    }
   ],
   "source": [
    "BINPLOT_VA1_parted_by_list_of_pairs_of_VA2(\n",
    "    df = df, \n",
    "    va1 = 'realinv', \n",
    "    va2 = 'time', \n",
    "    ls = [[pd.to_datetime(\"1970\"), pd.to_datetime(\"1975\")], [pd.to_datetime(\"1976\"), pd.to_datetime(\"1980\")]], \n",
    "    va2_is_index = True,\n",
    "    fig_size = (8,1.5),\n",
    "    show_x_ticks = False\n",
    ")"
   ]
  },
  {
   "cell_type": "markdown",
   "metadata": {},
   "source": [
    "# Binplots VA1, w/ DF partitioned by categorical VA2"
   ]
  },
  {
   "cell_type": "code",
   "execution_count": 492,
   "metadata": {},
   "outputs": [],
   "source": [
    "def BINPLOT_VA1_parted_by_categorical_VA2(\n",
    "        df, \n",
    "        va1, \n",
    "        va2, \n",
    "        ls = None,\n",
    "\n",
    "        whether_plot = True,\n",
    "        fig_size = (16,4)\n",
    "    ): \n",
    "    \"\"\"\n",
    "    Params:\n",
    "        \n",
    "    Returns: \n",
    "        DataFrame of means, stds & counts\n",
    "    Note:\n",
    "        1. Check va2 is categorical\n",
    "        2. Require no repeating index, for time series index, \n",
    "            consider push repeating index by 1ns, repeat \n",
    "            until no repetition left.\n",
    "            \n",
    "    TODO: extend to multiple categorical va2 values\n",
    "    TODO: allow multiple category values to take one bin!!!!!!\n",
    "    \"\"\"\n",
    "        \n",
    "    if ls == None:\n",
    "        ls = list(df[va2].unique())\n",
    "    \n",
    "    # groupby / partition\n",
    "    df_temp = df[(df[va2].apply(lambda x: (x in ls)))]\n",
    "    unstacked = df_temp.groupby(va2).apply(lambda x: x[va1]).unstack(level = 0)\n",
    "\n",
    "    # plot\n",
    "    if whether_plot:\n",
    "        ax = unstacked.plot(kind='box',figsize = fig_size)\n",
    "        _ = ax.set_xlabel(\"CATEGORY of {\" + va2 + \"}\")\n",
    "        _ = ax.set_ylabel(va1)\n",
    "    \n",
    "#     # return\n",
    "    ls_means = list(unstacked.mean(axis = 0, skipna = True))\n",
    "    ls_stds = list(unstacked.std(axis = 0, skipna = True))\n",
    "    ls_counts =list((-1*(unstacked.isna()-1)).sum())\n",
    "    df_ret = pd.DataFrame(data = ([ls_means, ls_stds,ls_counts]),\n",
    "                          index = ['mean','std','count'],\n",
    "                          columns = unstacked.columns)\n",
    "    df_ret = df_ret.transpose()\n",
    "    df_ret.rename_axis(\"CATEGORY of {\" + va2 + \"}\", inplace = True)\n",
    "    return df_ret\n",
    "    "
   ]
  },
  {
   "cell_type": "code",
   "execution_count": 493,
   "metadata": {},
   "outputs": [
    {
     "data": {
      "text/html": [
       "<div>\n",
       "<style scoped>\n",
       "    .dataframe tbody tr th:only-of-type {\n",
       "        vertical-align: middle;\n",
       "    }\n",
       "\n",
       "    .dataframe tbody tr th {\n",
       "        vertical-align: top;\n",
       "    }\n",
       "\n",
       "    .dataframe thead th {\n",
       "        text-align: right;\n",
       "    }\n",
       "</style>\n",
       "<table border=\"1\" class=\"dataframe\">\n",
       "  <thead>\n",
       "    <tr style=\"text-align: right;\">\n",
       "      <th></th>\n",
       "      <th>mean</th>\n",
       "      <th>std</th>\n",
       "      <th>count</th>\n",
       "    </tr>\n",
       "    <tr>\n",
       "      <th>CATEGORY of {quarter}</th>\n",
       "      <th></th>\n",
       "      <th></th>\n",
       "      <th></th>\n",
       "    </tr>\n",
       "  </thead>\n",
       "  <tbody>\n",
       "    <tr>\n",
       "      <td>1.0</td>\n",
       "      <td>7168.953059</td>\n",
       "      <td>3233.395188</td>\n",
       "      <td>51.0</td>\n",
       "    </tr>\n",
       "    <tr>\n",
       "      <td>2.0</td>\n",
       "      <td>7227.666451</td>\n",
       "      <td>3249.759628</td>\n",
       "      <td>51.0</td>\n",
       "    </tr>\n",
       "    <tr>\n",
       "      <td>3.0</td>\n",
       "      <td>7278.214667</td>\n",
       "      <td>3263.139718</td>\n",
       "      <td>51.0</td>\n",
       "    </tr>\n",
       "  </tbody>\n",
       "</table>\n",
       "</div>"
      ],
      "text/plain": [
       "                              mean          std  count\n",
       "CATEGORY of {quarter}                                 \n",
       "1.0                    7168.953059  3233.395188   51.0\n",
       "2.0                    7227.666451  3249.759628   51.0\n",
       "3.0                    7278.214667  3263.139718   51.0"
      ]
     },
     "execution_count": 493,
     "metadata": {},
     "output_type": "execute_result"
    },
    {
     "data": {
      "image/png": "[encoded data removed]",
      "text/plain": [
       "<Figure size 576x108 with 1 Axes>"
      ]
     },
     "metadata": {
      "needs_background": "light"
     },
     "output_type": "display_data"
    }
   ],
   "source": [
    "BINPLOT_VA1_parted_by_categorical_VA2(\n",
    "    df, \n",
    "    'realgdp', \n",
    "    'quarter',\n",
    "    [1,2,3],\n",
    "    fig_size = (8,1.5)\n",
    ")\n"
   ]
  },
  {
   "cell_type": "code",
   "execution_count": null,
   "metadata": {},
   "outputs": [],
   "source": []
  },
  {
   "cell_type": "code",
   "execution_count": null,
   "metadata": {},
   "outputs": [],
   "source": []
  },
  {
   "cell_type": "code",
   "execution_count": null,
   "metadata": {},
   "outputs": [],
   "source": []
  },
  {
   "cell_type": "code",
   "execution_count": null,
   "metadata": {},
   "outputs": [],
   "source": []
  },
  {
   "cell_type": "code",
   "execution_count": null,
   "metadata": {},
   "outputs": [],
   "source": []
  },
  {
   "cell_type": "code",
   "execution_count": null,
   "metadata": {},
   "outputs": [],
   "source": []
  },
  {
   "cell_type": "code",
   "execution_count": null,
   "metadata": {},
   "outputs": [],
   "source": []
  },
  {
   "cell_type": "code",
   "execution_count": null,
   "metadata": {},
   "outputs": [],
   "source": []
  },
  {
   "cell_type": "code",
   "execution_count": null,
   "metadata": {},
   "outputs": [],
   "source": []
  },
  {
   "cell_type": "code",
   "execution_count": null,
   "metadata": {},
   "outputs": [],
   "source": []
  },
  {
   "cell_type": "code",
   "execution_count": null,
   "metadata": {},
   "outputs": [],
   "source": []
  },
  {
   "cell_type": "code",
   "execution_count": null,
   "metadata": {},
   "outputs": [],
   "source": []
  },
  {
   "cell_type": "code",
   "execution_count": null,
   "metadata": {},
   "outputs": [],
   "source": []
  },
  {
   "cell_type": "code",
   "execution_count": null,
   "metadata": {},
   "outputs": [],
   "source": []
  },
  {
   "cell_type": "code",
   "execution_count": null,
   "metadata": {},
   "outputs": [],
   "source": []
  }
 ],
 "metadata": {
  "kernelspec": {
   "display_name": "Python 3",
   "language": "python",
   "name": "python3"
  },
  "language_info": {
   "codemirror_mode": {
    "name": "ipython",
    "version": 3
   },
   "file_extension": ".py",
   "mimetype": "text/x-python",
   "name": "python",
   "nbconvert_exporter": "python",
   "pygments_lexer": "ipython3",
   "version": "3.7.4"
  }
 },
 "nbformat": 4,
 "nbformat_minor": 4
}
